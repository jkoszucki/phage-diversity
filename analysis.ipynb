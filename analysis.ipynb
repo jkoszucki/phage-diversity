{
 "cells": [
  {
   "cell_type": "markdown",
   "id": "b35d2ef1-43d0-4457-8e3b-c9d74a52c538",
   "metadata": {},
   "source": [
    "### Diversity of prophages in KASPAH"
   ]
  },
  {
   "cell_type": "code",
   "execution_count": 26,
   "id": "e89bd213-912f-40e9-a40d-a11283cef0bb",
   "metadata": {},
   "outputs": [],
   "source": [
    "# jupyter setup\n",
    "%reload_ext autoreload\n",
    "%autoreload 2\n",
    "\n",
    "# import modules\n",
    "import warnings\n",
    "import pandas as pd\n",
    "from pathlib import Path\n",
    "from Bio import Phylo\n",
    "from scripts.utils import preprocessing, coGRR, get_phariants, run_mashtree\n",
    "from scripts.utils import tree2clades, between_phariants_easyfig\n",
    "from scripts.utils import stGRR, GRR\n",
    "warnings.filterwarnings('ignore')"
   ]
  },
  {
   "cell_type": "code",
   "execution_count": 27,
   "id": "c675400b-990f-4ef1-bc82-b71d087910d1",
   "metadata": {},
   "outputs": [],
   "source": [
    "# paths\n",
    "work_dir = '/home/MCB/jkoszucki/phagedb/PHAGES-DB'\n",
    "animm_dir = '/home/MCB/jkoszucki/Code/ANImm'\n",
    "phrogs_annot_table = '/home/MCB/jkoszucki/Code/phage-diversity/other/upgraded_phrog_annot_v3.tsv'\n",
    "# font_path='other/arial.ttf' \n",
    "\n",
    "input_dir = '/home/MCB/jkoszucki/phagedb'\n",
    "inphared_dir = Path(input_dir, 'INPHARED-DB-1Aug2022/INPHARED-DB-1Aug2022-KLEBSIELLA')\n",
    "prophages_dir = Path(input_dir, 'PROPHAGES-DB-1Aug2022/prophages')\n",
    "\n",
    "\n",
    "phagedb_dir = Path(work_dir, '0_phagedb')\n",
    "annot_input = Path(phagedb_dir, 'annot_input.txt')\n",
    "metadata_table = Path(phagedb_dir, 'phages.tsv')\n",
    "genbank_dir = Path(phagedb_dir, 'split_records/genbank')\n",
    "\n",
    "\n",
    "#coGRR\n",
    "coGRR_dir = Path(work_dir, '1_coGRR')\n",
    "\n",
    "coGRR_animm_dir = Path(coGRR_dir, '1_ANImm')\n",
    "wgrr = Path(coGRR_animm_dir, 'wgrr.csv')\n",
    "phariants = Path(coGRR_animm_dir, 'phariants.tsv')\n",
    "\n",
    "tree_dir = Path(coGRR_dir, '2_mashtree')\n",
    "tree_path = Path(tree_dir, 'tree.newick')\n",
    "clades = Path(tree_dir, 'clades.tsv')\n",
    "\n",
    "#stGRR\n",
    "stGRR_dir = Path(work_dir, '2_stGRR')\n",
    "\n",
    "\n",
    "# GRR\n",
    "coGRR_table = Path(work_dir, '1_coGRR','1_ANImm', 'wgrr.csv')\n",
    "stGRR_table = Path(work_dir, '2_stGRR', '2_ANImm', 'wgrr.csv')\n",
    "GRR_dir = Path(work_dir, '3_GRR')\n",
    "\n",
    "\n",
    "# params\n",
    "wgrr_threshold = 0.95\n",
    "n_clusters = 40 # mashtree clustering\n",
    "\n",
    "columns2annotate = ['phageID', 'backphlip', 'K_locus', 'ST', 'genetic_localisation', 'ICTV_Family'] # easyfig annotation\n",
    "leg_name = 'structural' # easyfig\n",
    "categs = ['head and packaging', 'connector', 'tail'] # categories of structural proteins"
   ]
  },
  {
   "cell_type": "markdown",
   "id": "ec24a952-c1ce-4163-ae6a-ac89623c08df",
   "metadata": {},
   "source": [
    "## 0. Preprocessing"
   ]
  },
  {
   "cell_type": "code",
   "execution_count": 29,
   "id": "89561a44-71c3-4c4b-9493-d8b2d16b66c9",
   "metadata": {},
   "outputs": [
    {
     "name": "stdout",
     "output_type": "stream",
     "text": [
      "Loading backphlip from /home/MCB/jkoszucki/phagedb/byhand/backphlip/phages.fasta.bacphlip... Done!\n",
      "Proteins files per phage copied successfully (ANImm input) :)\n",
      "Added RBPs predicted via domains to table :)\n",
      "Done! 1407 phages converted to genbank file.\n",
      "Functional annotation input tables merged and saved :)\n",
      "Phage flipped and saved to seperate genbank & fasta files :) \n",
      "Metadata unified and copied successfully :) \n"
     ]
    }
   ],
   "source": [
    "### preprocessing of PROPHAGE-DB-1Aug2022 & INPHARED-DB-1Aug2022-KLEBSIELLA & BACKPHLIP\n",
    "# integrate data\n",
    "\n",
    "preprocessing(inphared_dir, prophages_dir, phrogs_annot_table, phagedb_dir) "
   ]
  },
  {
   "cell_type": "markdown",
   "id": "67417f16-4c32-40fd-9098-af8edd4476ca",
   "metadata": {},
   "source": [
    "## 1. complete genome (coGRR)"
   ]
  },
  {
   "cell_type": "code",
   "execution_count": 4,
   "id": "8791cb5b-7bab-44bd-ac94-a3cc5d4f862e",
   "metadata": {},
   "outputs": [
    {
     "name": "stdout",
     "output_type": "stream",
     "text": [
      "ANImm already done! To rerun delete folder: /home/MCB/jkoszucki/phagedb/PHAGES-DB/1_coGRR/1_ANImm\n"
     ]
    }
   ],
   "source": [
    "### calculate wGRR\n",
    "process = coGRR(animm_dir, phagedb_dir, coGRR_animm_dir)"
   ]
  },
  {
   "cell_type": "code",
   "execution_count": 5,
   "id": "7cc106e6-df3b-4a86-9ad7-7d8b196f4e9d",
   "metadata": {},
   "outputs": [
    {
     "name": "stdout",
     "output_type": "stream",
     "text": [
      "Check! In some case I can loose singletons here!\n",
      "Done! With wGRR treshold = 0.95 we have 964 phage clusters :)"
     ]
    }
   ],
   "source": [
    "### phariants from wGRR\n",
    "# MCL community detection\n",
    "phariants_df = get_phariants(wgrr, annot_input, phariants, wgrr_threshold)"
   ]
  },
  {
   "cell_type": "code",
   "execution_count": 6,
   "id": "a2a901f9-16fd-4fa5-83bd-b112c6561639",
   "metadata": {},
   "outputs": [
    {
     "name": "stdout",
     "output_type": "stream",
     "text": [
      "Just run the command in bash. Problem with conda env AGAIN : / \n",
      "\n",
      "source ~/.bashrc; conda activate mashtree; mashtree.pl /home/MCB/jkoszucki/phagedb/PHAGES-DB/0_phagedb/split_records/fasta/* >> /home/MCB/jkoszucki/phagedb/PHAGES-DB/1_coGRR/2_mashtree/tree.newick; conda activate mybase;\n"
     ]
    }
   ],
   "source": [
    "### mashtree\n",
    "# local machine needs a lots of memory because tree is firstly saved loccaly then copied\n",
    "cmd = run_mashtree(phagedb_dir, tree_dir)"
   ]
  },
  {
   "cell_type": "code",
   "execution_count": 7,
   "id": "beac6125-99c7-4d6f-aee0-eec40107f3ed",
   "metadata": {},
   "outputs": [
    {
     "name": "stdout",
     "output_type": "stream",
     "text": [
      "Mashtree already done! To rerun delete folder: /home/MCB/jkoszucki/phagedb/PHAGES-DB/1_coGRR/2_mashtree/tree.newick\n"
     ]
    }
   ],
   "source": [
    "### get 'clades' based on mashtree (for visualisation purposes)\n",
    "# there are size limitations on jpeg files and its easier to look on genomes when they are clustered \n",
    "phage_clusters_df = tree2clades(tree_path, phariants, clades, n_clusters, kmeans_show=False)"
   ]
  },
  {
   "cell_type": "code",
   "execution_count": 32,
   "id": "b543e3b3-d07d-4268-a192-f2aa1bb4bd68",
   "metadata": {},
   "outputs": [],
   "source": [
    "### get easyfig figures between phariants of each representative phage from cluster\n",
    "# annotated : ) \n",
    "results_dir, process = between_phariants_easyfig(work_dir, clades, metadata_table, genbank_dir, leg_name=leg_name, columns2annotate=columns2annotate)"
   ]
  },
  {
   "cell_type": "markdown",
   "id": "f67e81a6-13f0-410c-95b8-7f41f43ecdd2",
   "metadata": {},
   "source": [
    "## 2. Structural genome (stGRR)"
   ]
  },
  {
   "cell_type": "code",
   "execution_count": 31,
   "id": "0ec52d13-7cb9-4289-8f89-a00442d54a52",
   "metadata": {},
   "outputs": [
    {
     "name": "stdout",
     "output_type": "stream",
     "text": [
      "Prepared input structural proteins :) \n",
      "stGRR already done! To rerun ANImm delete folder: /home/MCB/jkoszucki/phagedb/PHAGES-DB/2_stGRR/2_ANImm\n",
      "Clustering by stGRR... (tresholds: 0.9) Done!\n",
      "Easyfig of stGRR clusters... Done!\n"
     ]
    }
   ],
   "source": [
    "### get structural clusters\n",
    "stGRR(animm_dir, phagedb_dir, stGRR_dir, categs)"
   ]
  },
  {
   "cell_type": "markdown",
   "id": "fc3f12a2-d5c3-4e73-8589-9454769712a3",
   "metadata": {},
   "source": [
    "## 3. coGRR & stGRR comparison"
   ]
  },
  {
   "cell_type": "code",
   "execution_count": 33,
   "id": "f6c32774-a956-4f44-8257-fc55b67bb891",
   "metadata": {},
   "outputs": [
    {
     "name": "stdout",
     "output_type": "stream",
     "text": [
      "Running GRR!\n",
      "Merging tables... Done!\n",
      "Generating networks... Done!\n",
      "Generating correlation plot... \n",
      "    1. prophages & inphared... Done!\n",
      "    2. inphared... Done!\n"
     ]
    }
   ],
   "source": [
    "GRR_df = GRR(coGRR_table, stGRR_table, metadata_table, genbank_dir, \n",
    "             GRR_dir, network_grr_tresholds = [0.9, 0.8, 0.7, 0.6, 0.5, 0.4, 0.3, 0.2, 0.1], \n",
    "             wgrr_co=0.3 , wgrr_st=0.8, easyfig=False, show=False, force=True)"
   ]
  },
  {
   "cell_type": "code",
   "execution_count": null,
   "id": "2e436397-66e6-4245-8a73-9e2209301757",
   "metadata": {},
   "outputs": [],
   "source": []
  }
 ],
 "metadata": {
  "kernelspec": {
   "display_name": "Python [conda env:.conda-mybase]",
   "language": "python",
   "name": "conda-env-.conda-mybase-py"
  },
  "language_info": {
   "codemirror_mode": {
    "name": "ipython",
    "version": 3
   },
   "file_extension": ".py",
   "mimetype": "text/x-python",
   "name": "python",
   "nbconvert_exporter": "python",
   "pygments_lexer": "ipython3",
   "version": "3.10.5"
  }
 },
 "nbformat": 4,
 "nbformat_minor": 5
}

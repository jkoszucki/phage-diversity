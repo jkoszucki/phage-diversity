{
 "cells": [
  {
   "cell_type": "markdown",
   "id": "b35d2ef1-43d0-4457-8e3b-c9d74a52c538",
   "metadata": {},
   "source": [
    "### Diversity of prophages in KASPAH"
   ]
  },
  {
   "cell_type": "code",
   "execution_count": 75,
   "id": "e89bd213-912f-40e9-a40d-a11283cef0bb",
   "metadata": {},
   "outputs": [],
   "source": [
    "# jupyter setup\n",
    "%reload_ext autoreload\n",
    "%autoreload 2\n",
    "\n",
    "# import modules\n",
    "import warnings\n",
    "import pandas as pd\n",
    "from pathlib import Path\n",
    "from Bio import Phylo\n",
    "from scripts.utils import preprocessing, coGRR, get_phariants, run_mashtree\n",
    "from scripts.utils import tree2clades, between_phariants_easyfig\n",
    "from scripts.utils import stGRR, GRR\n",
    "warnings.filterwarnings('ignore')"
   ]
  },
  {
   "cell_type": "code",
   "execution_count": 76,
   "id": "c675400b-990f-4ef1-bc82-b71d087910d1",
   "metadata": {},
   "outputs": [],
   "source": [
    "# paths\n",
    "work_dir = '/home/MCB/jkoszucki/phagedb/PHAGES-DB'\n",
    "animm_dir = '/home/MCB/jkoszucki/Code/ANImm'\n",
    "phrogs_annot_table = '/home/MCB/jkoszucki/Code/phage-diversity/other/upgraded_phrog_annot_v3.tsv'\n",
    "# font_path='other/arial.ttf' \n",
    "\n",
    "input_dir = '/home/MCB/jkoszucki/phagedb'\n",
    "inphared_dir = Path(input_dir, 'INPHARED-DB-1Aug2022/INPHARED-DB-1Aug2022-KLEBSIELLA')\n",
    "prophages_dir = Path(input_dir, 'PROPHAGES-DB-1Aug2022/prophages')\n",
    "\n",
    "\n",
    "phagedb_dir = Path(work_dir, '0_phagedb')\n",
    "annot_input = Path(phagedb_dir, 'annot_input.txt')\n",
    "metadata_table = Path(phagedb_dir, 'phages.tsv')\n",
    "genbank_dir = Path(phagedb_dir, 'split_records/genbank')\n",
    "\n",
    "\n",
    "#coGRR\n",
    "coGRR_dir = Path(work_dir, '1_coGRR')\n",
    "\n",
    "coGRR_animm_dir = Path(coGRR_dir, '1_ANImm')\n",
    "wgrr = Path(coGRR_animm_dir, 'wgrr.csv')\n",
    "phariants = Path(coGRR_animm_dir, 'phariants.tsv')\n",
    "\n",
    "tree_dir = Path(coGRR_dir, '2_mashtree')\n",
    "tree_path = Path(tree_dir, 'tree.newick')\n",
    "clades = Path(tree_dir, 'clades.tsv')\n",
    "\n",
    "#stGRR\n",
    "stGRR_dir = Path(work_dir, '2_stGRR')\n",
    "\n",
    "\n",
    "# GRR\n",
    "coGRR_table = Path(work_dir, '1_coGRR','1_ANImm', 'wgrr.csv')\n",
    "stGRR_table = Path(work_dir, '2_stGRR', '2_ANImm', 'wgrr.csv')\n",
    "GRR_dir = Path(work_dir, '3_GRR')\n",
    "\n",
    "\n",
    "# params\n",
    "wgrr_threshold = 0.95\n",
    "n_clusters = 40 # mashtree clustering\n",
    "\n",
    "columns2annotate = ['phageID', 'backphlip', 'K_locus', 'ST', 'genetic_localisation', 'ICTV_Family'] # easyfig annotation\n",
    "leg_name = 'structural' # easyfig\n",
    "categs = ['head and packaging', 'connector', 'tail'] # categories of structural proteins"
   ]
  },
  {
   "cell_type": "markdown",
   "id": "ec24a952-c1ce-4163-ae6a-ac89623c08df",
   "metadata": {},
   "source": [
    "## 0. Preprocessing"
   ]
  },
  {
   "cell_type": "code",
   "execution_count": 46,
   "id": "89561a44-71c3-4c4b-9493-d8b2d16b66c9",
   "metadata": {},
   "outputs": [
    {
     "name": "stdout",
     "output_type": "stream",
     "text": [
      "Preprocessing alread done! To rerun delete folder: /home/MCB/jkoszucki/phagedb/PHAGES-DB/0_phagedb\n"
     ]
    }
   ],
   "source": [
    "### preprocessing of PROPHAGE-DB-1Aug2022 & INPHARED-DB-1Aug2022-KLEBSIELLA & BACKPHLIP\n",
    "# integrate data\n",
    "\n",
    "preprocessing(inphared_dir, prophages_dir, phrogs_annot_table, phagedb_dir) "
   ]
  },
  {
   "cell_type": "markdown",
   "id": "67417f16-4c32-40fd-9098-af8edd4476ca",
   "metadata": {},
   "source": [
    "## 1. complete genome (coGRR)"
   ]
  },
  {
   "cell_type": "code",
   "execution_count": 47,
   "id": "8791cb5b-7bab-44bd-ac94-a3cc5d4f862e",
   "metadata": {},
   "outputs": [
    {
     "name": "stdout",
     "output_type": "stream",
     "text": [
      "ANImm already done! To rerun delete folder: /home/MCB/jkoszucki/phagedb/PHAGES-DB/1_coGRR/1_ANImm\n"
     ]
    }
   ],
   "source": [
    "### calculate wGRR\n",
    "process = coGRR(animm_dir, phagedb_dir, coGRR_animm_dir)"
   ]
  },
  {
   "cell_type": "code",
   "execution_count": 48,
   "id": "7cc106e6-df3b-4a86-9ad7-7d8b196f4e9d",
   "metadata": {},
   "outputs": [
    {
     "name": "stdout",
     "output_type": "stream",
     "text": [
      "Check! In some case I can loose singletons here!\n",
      "Done! With wGRR treshold = 0.95 we have 964 phage clusters :)"
     ]
    }
   ],
   "source": [
    "### phariants from wGRR\n",
    "# MCL community detection\n",
    "phariants_df = get_phariants(wgrr, annot_input, phariants, wgrr_threshold)"
   ]
  },
  {
   "cell_type": "code",
   "execution_count": 49,
   "id": "a2a901f9-16fd-4fa5-83bd-b112c6561639",
   "metadata": {},
   "outputs": [
    {
     "name": "stdout",
     "output_type": "stream",
     "text": [
      "Just run the command in bash. Problem with conda env AGAIN : / \n",
      "\n",
      "source ~/.bashrc; conda activate mashtree; mashtree.pl /home/MCB/jkoszucki/phagedb/PHAGES-DB/0_phagedb/split_records/fasta/* >> /home/MCB/jkoszucki/phagedb/PHAGES-DB/1_coGRR/2_mashtree/tree.newick; conda activate mybase;\n"
     ]
    }
   ],
   "source": [
    "### mashtree\n",
    "# local machine needs a lots of memory because tree is firstly saved loccaly then copied\n",
    "cmd = run_mashtree(phagedb_dir, tree_dir)"
   ]
  },
  {
   "cell_type": "code",
   "execution_count": 50,
   "id": "beac6125-99c7-4d6f-aee0-eec40107f3ed",
   "metadata": {},
   "outputs": [
    {
     "name": "stdout",
     "output_type": "stream",
     "text": [
      "Mashtree already done! To rerun delete folder: /home/MCB/jkoszucki/phagedb/PHAGES-DB/1_coGRR/2_mashtree/tree.newick\n"
     ]
    }
   ],
   "source": [
    "### get 'clades' based on mashtree (for visualisation purposes)\n",
    "# there are size limitations on jpeg files and its easier to look on genomes when they are clustered \n",
    "phage_clusters_df = tree2clades(tree_path, phariants, clades, n_clusters, kmeans_show=False)"
   ]
  },
  {
   "cell_type": "code",
   "execution_count": 52,
   "id": "b543e3b3-d07d-4268-a192-f2aa1bb4bd68",
   "metadata": {},
   "outputs": [
    {
     "name": "stdout",
     "output_type": "stream",
     "text": [
      "Nothing to do :)\n",
      "To force rerun delete /home/MCB/jkoszucki/phagedb/PHAGES-DB/1_coGRR/3_easyfig/1_between_phariants\n"
     ]
    }
   ],
   "source": [
    "### get easyfig figures between phariants of each representative phage from cluster\n",
    "# annotated : ) \n",
    "results_dir, process = between_phariants_easyfig(work_dir, clades, metadata_table, genbank_dir, leg_name=leg_name, columns2annotate=columns2annotate)"
   ]
  },
  {
   "cell_type": "markdown",
   "id": "f67e81a6-13f0-410c-95b8-7f41f43ecdd2",
   "metadata": {},
   "source": [
    "## 2. Structural genome (stGRR)"
   ]
  },
  {
   "cell_type": "code",
   "execution_count": 53,
   "id": "0ec52d13-7cb9-4289-8f89-a00442d54a52",
   "metadata": {},
   "outputs": [
    {
     "name": "stdout",
     "output_type": "stream",
     "text": [
      "stGRR already done! To rerun delete folder: /home/MCB/jkoszucki/phagedb/PHAGES-DB/2_stGRR\n"
     ]
    }
   ],
   "source": [
    "### get structural clusters\n",
    "process = stGRR(animm_dir, phagedb_dir, stGRR_dir, categs)"
   ]
  },
  {
   "cell_type": "markdown",
   "id": "fc3f12a2-d5c3-4e73-8589-9454769712a3",
   "metadata": {},
   "source": [
    "## 3. coGRR & stGRR comparison"
   ]
  },
  {
   "cell_type": "code",
   "execution_count": 97,
   "id": "f6c32774-a956-4f44-8257-fc55b67bb891",
   "metadata": {},
   "outputs": [],
   "source": [
    "GRR_df = GRR(coGRR_table, stGRR_table, metadata_table, genbank_dir, \n",
    "             GRR_dir, network_grr_tresholds = [0.9, 0.8, 0.7, 0.6, 0.5], \n",
    "             wgrr_co=0.ll\n",
    "             cd 4, wgrr_st=0.8, force=True)"
   ]
  },
  {
   "cell_type": "code",
   "execution_count": 98,
   "id": "85f49e62-49cd-4864-bbd1-e7eed3f40b7b",
   "metadata": {},
   "outputs": [
    {
     "data": {
      "text/html": [
       "<div>\n",
       "<style scoped>\n",
       "    .dataframe tbody tr th:only-of-type {\n",
       "        vertical-align: middle;\n",
       "    }\n",
       "\n",
       "    .dataframe tbody tr th {\n",
       "        vertical-align: top;\n",
       "    }\n",
       "\n",
       "    .dataframe thead th {\n",
       "        text-align: right;\n",
       "    }\n",
       "</style>\n",
       "<table border=\"1\" class=\"dataframe\">\n",
       "  <thead>\n",
       "    <tr style=\"text-align: right;\">\n",
       "      <th></th>\n",
       "      <th>phariantID</th>\n",
       "      <th>contigID</th>\n",
       "      <th>n</th>\n",
       "      <th>file_name</th>\n",
       "      <th>contig_name</th>\n",
       "      <th>contig_description</th>\n",
       "      <th>contig_len [bp]</th>\n",
       "      <th>n_contigs</th>\n",
       "      <th>status</th>\n",
       "    </tr>\n",
       "  </thead>\n",
       "  <tbody>\n",
       "    <tr>\n",
       "      <th>0</th>\n",
       "      <td>1</td>\n",
       "      <td>OK490426</td>\n",
       "      <td>532</td>\n",
       "      <td>OK490426</td>\n",
       "      <td>OK490426</td>\n",
       "      <td>OK490426  UNVERIFIED: Klebsiella phage Kp4869-...</td>\n",
       "      <td>36687</td>\n",
       "      <td>1</td>\n",
       "      <td>member</td>\n",
       "    </tr>\n",
       "    <tr>\n",
       "      <th>1</th>\n",
       "      <td>1</td>\n",
       "      <td>OK490428</td>\n",
       "      <td>441</td>\n",
       "      <td>OK490428</td>\n",
       "      <td>OK490428</td>\n",
       "      <td>OK490428  UNVERIFIED: Klebsiella phage Kp4870-...</td>\n",
       "      <td>36687</td>\n",
       "      <td>1</td>\n",
       "      <td>member</td>\n",
       "    </tr>\n",
       "    <tr>\n",
       "      <th>2</th>\n",
       "      <td>1</td>\n",
       "      <td>OK490424</td>\n",
       "      <td>327</td>\n",
       "      <td>OK490424</td>\n",
       "      <td>OK490424</td>\n",
       "      <td>OK490424  UNVERIFIED: Klebsiella phage Kp4868-...</td>\n",
       "      <td>36687</td>\n",
       "      <td>1</td>\n",
       "      <td>member</td>\n",
       "    </tr>\n",
       "    <tr>\n",
       "      <th>3</th>\n",
       "      <td>1</td>\n",
       "      <td>OK490422</td>\n",
       "      <td>520</td>\n",
       "      <td>OK490422</td>\n",
       "      <td>OK490422</td>\n",
       "      <td>OK490422  UNVERIFIED: Klebsiella phage Kp4867-...</td>\n",
       "      <td>36687</td>\n",
       "      <td>1</td>\n",
       "      <td>member</td>\n",
       "    </tr>\n",
       "    <tr>\n",
       "      <th>4</th>\n",
       "      <td>1</td>\n",
       "      <td>OK490406</td>\n",
       "      <td>319</td>\n",
       "      <td>OK490406</td>\n",
       "      <td>OK490406</td>\n",
       "      <td>OK490406  UNVERIFIED: Klebsiella phage Kp4851-...</td>\n",
       "      <td>36687</td>\n",
       "      <td>1</td>\n",
       "      <td>member</td>\n",
       "    </tr>\n",
       "    <tr>\n",
       "      <th>...</th>\n",
       "      <td>...</td>\n",
       "      <td>...</td>\n",
       "      <td>...</td>\n",
       "      <td>...</td>\n",
       "      <td>...</td>\n",
       "      <td>...</td>\n",
       "      <td>...</td>\n",
       "      <td>...</td>\n",
       "      <td>...</td>\n",
       "    </tr>\n",
       "    <tr>\n",
       "      <th>1402</th>\n",
       "      <td>960</td>\n",
       "      <td>MN434096</td>\n",
       "      <td>22</td>\n",
       "      <td>MN434096</td>\n",
       "      <td>MN434096</td>\n",
       "      <td>MN434096  Klebsiella phage JIPh_Kp127, complet...</td>\n",
       "      <td>113671</td>\n",
       "      <td>1</td>\n",
       "      <td>repr</td>\n",
       "    </tr>\n",
       "    <tr>\n",
       "      <th>1403</th>\n",
       "      <td>961</td>\n",
       "      <td>690_PAULISTA.2116</td>\n",
       "      <td>521</td>\n",
       "      <td>690_PAULISTA.2116</td>\n",
       "      <td>690_PAULISTA.2116</td>\n",
       "      <td>690_PAULISTA.2116</td>\n",
       "      <td>107007</td>\n",
       "      <td>1</td>\n",
       "      <td>repr</td>\n",
       "    </tr>\n",
       "    <tr>\n",
       "      <th>1404</th>\n",
       "      <td>962</td>\n",
       "      <td>231_ITATINGA.0730</td>\n",
       "      <td>49</td>\n",
       "      <td>231_ITATINGA.0730</td>\n",
       "      <td>231_ITATINGA.0730</td>\n",
       "      <td>231_ITATINGA.0730</td>\n",
       "      <td>41104</td>\n",
       "      <td>1</td>\n",
       "      <td>repr</td>\n",
       "    </tr>\n",
       "    <tr>\n",
       "      <th>1405</th>\n",
       "      <td>963</td>\n",
       "      <td>452_EASTON.1185</td>\n",
       "      <td>505</td>\n",
       "      <td>452_EASTON.1185</td>\n",
       "      <td>452_EASTON.1185</td>\n",
       "      <td>452_EASTON.1185</td>\n",
       "      <td>47895</td>\n",
       "      <td>1</td>\n",
       "      <td>repr</td>\n",
       "    </tr>\n",
       "    <tr>\n",
       "      <th>1406</th>\n",
       "      <td>964</td>\n",
       "      <td>454_DEKEMHARE.1974</td>\n",
       "      <td>120</td>\n",
       "      <td>454_DEKEMHARE.1974</td>\n",
       "      <td>454_DEKEMHARE.1974</td>\n",
       "      <td>454_DEKEMHARE.1974</td>\n",
       "      <td>93794</td>\n",
       "      <td>1</td>\n",
       "      <td>repr</td>\n",
       "    </tr>\n",
       "  </tbody>\n",
       "</table>\n",
       "<p>1407 rows × 9 columns</p>\n",
       "</div>"
      ],
      "text/plain": [
       "      phariantID            contigID    n           file_name  \\\n",
       "0              1            OK490426  532            OK490426   \n",
       "1              1            OK490428  441            OK490428   \n",
       "2              1            OK490424  327            OK490424   \n",
       "3              1            OK490422  520            OK490422   \n",
       "4              1            OK490406  319            OK490406   \n",
       "...          ...                 ...  ...                 ...   \n",
       "1402         960            MN434096   22            MN434096   \n",
       "1403         961   690_PAULISTA.2116  521   690_PAULISTA.2116   \n",
       "1404         962   231_ITATINGA.0730   49   231_ITATINGA.0730   \n",
       "1405         963     452_EASTON.1185  505     452_EASTON.1185   \n",
       "1406         964  454_DEKEMHARE.1974  120  454_DEKEMHARE.1974   \n",
       "\n",
       "             contig_name                                 contig_description  \\\n",
       "0               OK490426  OK490426  UNVERIFIED: Klebsiella phage Kp4869-...   \n",
       "1               OK490428  OK490428  UNVERIFIED: Klebsiella phage Kp4870-...   \n",
       "2               OK490424  OK490424  UNVERIFIED: Klebsiella phage Kp4868-...   \n",
       "3               OK490422  OK490422  UNVERIFIED: Klebsiella phage Kp4867-...   \n",
       "4               OK490406  OK490406  UNVERIFIED: Klebsiella phage Kp4851-...   \n",
       "...                  ...                                                ...   \n",
       "1402            MN434096  MN434096  Klebsiella phage JIPh_Kp127, complet...   \n",
       "1403   690_PAULISTA.2116                                  690_PAULISTA.2116   \n",
       "1404   231_ITATINGA.0730                                  231_ITATINGA.0730   \n",
       "1405     452_EASTON.1185                                    452_EASTON.1185   \n",
       "1406  454_DEKEMHARE.1974                                 454_DEKEMHARE.1974   \n",
       "\n",
       "      contig_len [bp]  n_contigs  status  \n",
       "0               36687          1  member  \n",
       "1               36687          1  member  \n",
       "2               36687          1  member  \n",
       "3               36687          1  member  \n",
       "4               36687          1  member  \n",
       "...               ...        ...     ...  \n",
       "1402           113671          1    repr  \n",
       "1403           107007          1    repr  \n",
       "1404            41104          1    repr  \n",
       "1405            47895          1    repr  \n",
       "1406            93794          1    repr  \n",
       "\n",
       "[1407 rows x 9 columns]"
      ]
     },
     "execution_count": 98,
     "metadata": {},
     "output_type": "execute_result"
    }
   ],
   "source": [
    "phariants_df"
   ]
  },
  {
   "cell_type": "code",
   "execution_count": null,
   "id": "bb58a8f5-f478-4ea4-99bc-00d44d338776",
   "metadata": {},
   "outputs": [],
   "source": []
  },
  {
   "cell_type": "code",
   "execution_count": null,
   "id": "0277a2da-3570-4d22-8687-f69bd3694caa",
   "metadata": {},
   "outputs": [],
   "source": []
  },
  {
   "cell_type": "code",
   "execution_count": null,
   "id": "230e8e21-149e-4467-85fa-bb4346282266",
   "metadata": {},
   "outputs": [],
   "source": []
  },
  {
   "cell_type": "code",
   "execution_count": null,
   "id": "87404587-94e4-46dd-821e-366cdc2f576c",
   "metadata": {},
   "outputs": [],
   "source": []
  }
 ],
 "metadata": {
  "kernelspec": {
   "display_name": "Python 3 (ipykernel)",
   "language": "python",
   "name": "python3"
  },
  "language_info": {
   "codemirror_mode": {
    "name": "ipython",
    "version": 3
   },
   "file_extension": ".py",
   "mimetype": "text/x-python",
   "name": "python",
   "nbconvert_exporter": "python",
   "pygments_lexer": "ipython3",
   "version": "3.10.5"
  }
 },
 "nbformat": 4,
 "nbformat_minor": 5
}

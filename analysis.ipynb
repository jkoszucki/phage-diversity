{
 "cells": [
  {
   "cell_type": "markdown",
   "id": "b35d2ef1-43d0-4457-8e3b-c9d74a52c538",
   "metadata": {},
   "source": [
    "### Diversity of prophages in KASPAH"
   ]
  },
  {
   "cell_type": "code",
   "execution_count": 5,
   "id": "e89bd213-912f-40e9-a40d-a11283cef0bb",
   "metadata": {},
   "outputs": [],
   "source": [
    "# jupyter setup\n",
    "%reload_ext autoreload\n",
    "%autoreload 2\n",
    "\n",
    "# import modules\n",
    "import warnings\n",
    "import pandas as pd\n",
    "from pathlib import Path\n",
    "from Bio import Phylo\n",
    "from scripts.utils import preprocessing, coGRR, get_phariants, run_mashtree\n",
    "from scripts.utils import tree2clades, table2genbank, between_phariants_easyfig\n",
    "from scripts.utils import stGRR\n",
    "warnings.filterwarnings('ignore')"
   ]
  },
  {
   "cell_type": "code",
   "execution_count": 19,
   "id": "c675400b-990f-4ef1-bc82-b71d087910d1",
   "metadata": {},
   "outputs": [],
   "source": [
    "# paths\n",
    "work_dir = '/home/MCB/jkoszucki/phagedb/PHAGES-DB'\n",
    "animm_dir = '/home/MCB/jkoszucki/Code/ANImm'\n",
    "phrogs_annot_table = '/home/MCB/jkoszucki/Code/phage-diversity/other/upgraded_phrog_annot_v3.tsv'\n",
    "# font_path='other/arial.ttf' \n",
    "\n",
    "input_dir = '/home/MCB/jkoszucki/phagedb'\n",
    "inphared_dir = Path(input_dir, 'INPHARED-DB-1Aug2022/INPHARED-DB-1Aug2022-KLEBSIELLA')\n",
    "prophages_dir = Path(input_dir, 'PROPHAGES-DB-1Aug2022/prophages')\n",
    "\n",
    "# params\n",
    "wgrr_threshold = 0.95"
   ]
  },
  {
   "cell_type": "markdown",
   "id": "ec24a952-c1ce-4163-ae6a-ac89623c08df",
   "metadata": {},
   "source": [
    "# Run"
   ]
  },
  {
   "cell_type": "code",
   "execution_count": 20,
   "id": "89561a44-71c3-4c4b-9493-d8b2d16b66c9",
   "metadata": {},
   "outputs": [
    {
     "name": "stdout",
     "output_type": "stream",
     "text": [
      "Preprocessing alread done! To rerun delete folder: /home/MCB/jkoszucki/phagedb/PHAGES-DB/0_phagedb\n"
     ]
    }
   ],
   "source": [
    "### preprocessing of PROPHAGE-DB-1Aug2022 & INPHARED-DB-1Aug2022-KLEBSIELLA\n",
    "# integrate data\n",
    "phagedb_dir = Path(work_dir, '0_phagedb')\n",
    "preprocessing(inphared_dir, prophages_dir, phrogs_annot_table, phagedb_dir) "
   ]
  },
  {
   "cell_type": "code",
   "execution_count": 21,
   "id": "8791cb5b-7bab-44bd-ac94-a3cc5d4f862e",
   "metadata": {},
   "outputs": [
    {
     "name": "stdout",
     "output_type": "stream",
     "text": [
      "ANImm already done! To rerun delete folder: /home/MCB/jkoszucki/phagedb/PHAGES-DB/1_cophariants\n"
     ]
    }
   ],
   "source": [
    "### calculate wGRR\n",
    "animm_results_dir = Path(work_dir, '1_cophariants')\n",
    "process = coGRR(animm_dir, phagedb_dir, animm_results_dir)"
   ]
  },
  {
   "cell_type": "code",
   "execution_count": 22,
   "id": "7cc106e6-df3b-4a86-9ad7-7d8b196f4e9d",
   "metadata": {},
   "outputs": [
    {
     "name": "stdout",
     "output_type": "stream",
     "text": [
      "Check! In some case I can loose singletons here!\n",
      "Done! With wGRR treshold = 0.95 we have 964 phage clusters :)"
     ]
    }
   ],
   "source": [
    "### phariants from wGRR\n",
    "# MCL community detection\n",
    "\n",
    "wgrr = Path(animm_results_dir, 'wgrr.csv')\n",
    "annot_input = Path(phagedb_dir, 'annot_input.txt')\n",
    "phariants = Path(animm_results_dir, 'phariants.tsv')\n",
    "\n",
    "phariants_df = get_phariants(wgrr, annot_input, phariants, wgrr_threshold)"
   ]
  },
  {
   "cell_type": "code",
   "execution_count": 17,
   "id": "a2a901f9-16fd-4fa5-83bd-b112c6561639",
   "metadata": {},
   "outputs": [
    {
     "name": "stdout",
     "output_type": "stream",
     "text": [
      "Just run the command in bash. Problem with conda env AGAIN : / \n",
      "\n",
      "source ~/.bashrc; conda activate mashtree; mashtree.pl /home/MCB/jkoszucki/phagedb/PHAGES-DB/0_phagedb/split_records/fasta/* >> /home/MCB/jkoszucki/phagedb/PHAGES-DB/2_mashtree/tree.newick; conda activate mybase;\n"
     ]
    }
   ],
   "source": [
    "### mashtree\n",
    "# local machine needs a lots of memory because tree is firstly dropped loccaly then copied\n",
    "tree_dir = Path(work_dir, '2_mashtree')\n",
    "cmd = run_mashtree(phagedb_dir, tree_dir)"
   ]
  },
  {
   "cell_type": "code",
   "execution_count": 26,
   "id": "beac6125-99c7-4d6f-aee0-eec40107f3ed",
   "metadata": {},
   "outputs": [
    {
     "name": "stdout",
     "output_type": "stream",
     "text": [
      "Everything is good :) Cluster tree with kmeans method (n_cluster: 40).\n",
      "Done! Phages grouped using mashtree! :)"
     ]
    }
   ],
   "source": [
    "### get 'clades' based on mashtree (for visualisation purposes)\n",
    "# there are size limitations on jpeg files and its easier to look on genomes when they are clustered \n",
    "tree_dir = Path(work_dir, '2_mashtree')\n",
    "tree_path = Path(tree_dir, 'tree.newick')\n",
    "phariants = Path(animm_results_dir, 'phariants.tsv')\n",
    "clades = Path(tree_dir, 'clades.tsv')\n",
    "\n",
    "n_clusters = 40\n",
    "\n",
    "phage_clusters_df = tree2clades(tree_path, phariants, clades, n_clusters, kmeans_show=False)"
   ]
  },
  {
   "cell_type": "code",
   "execution_count": 27,
   "id": "b543e3b3-d07d-4268-a192-f2aa1bb4bd68",
   "metadata": {},
   "outputs": [
    {
     "name": "stdout",
     "output_type": "stream",
     "text": [
      "Fonth path for annotation of easyfig schemes: /home/MCB/jkoszucki/Code/phage-diversity/other/arial.ttf\n",
      "Generating easyfig figures for 40 clusters :) \n",
      "Done! :)\n"
     ]
    }
   ],
   "source": [
    "### get easyfig figures between phariants of each representative phage from cluster\n",
    "# annotated : ) \n",
    "\n",
    "clades = Path(tree_dir, 'clades.tsv')\n",
    "phages = Path(phagedb_dir, 'phages.tsv')\n",
    "phages_genbank_dir = Path(phagedb_dir, 'split_records/genbank')\n",
    "\n",
    "easyfig = Path('other/Easyfig.py').resolve()\n",
    "\n",
    "annotate_columns = ['K_locus', 'ST', 'phageID', 'genetic_localisation']\n",
    "leg_name = 'structural'\n",
    "\n",
    "results_dir, process = between_phariants_easyfig(work_dir, clades, phages, phages_genbank_dir, easyfig, leg_name=leg_name)"
   ]
  },
  {
   "cell_type": "code",
   "execution_count": 18,
   "id": "0ec52d13-7cb9-4289-8f89-a00442d54a52",
   "metadata": {},
   "outputs": [],
   "source": [
    "### get structural clusters\n",
    "\n",
    "struct_categories = ['head and packaging', 'connector', 'tail']\n",
    "struct_dir = Path(work_dir, '3_struc_phariants')\n",
    "\n",
    "process = stGRR(animm_dir, phagedb_dir, struct_dir, structural_categories)"
   ]
  },
  {
   "cell_type": "code",
   "execution_count": null,
   "id": "d057a0cf-f7b2-44ed-930e-0e7667f190ff",
   "metadata": {},
   "outputs": [],
   "source": []
  },
  {
   "cell_type": "code",
   "execution_count": null,
   "id": "f6c32774-a956-4f44-8257-fc55b67bb891",
   "metadata": {},
   "outputs": [],
   "source": [
    "import matplotlib.pyplot as plt\n",
    "import searborn as sns\n",
    "\n",
    "\n",
    "pd.read_csv(cogrr)\n",
    "pd.read_csv(strugrr)"
   ]
  },
  {
   "cell_type": "code",
   "execution_count": null,
   "id": "85f49e62-49cd-4864-bbd1-e7eed3f40b7b",
   "metadata": {},
   "outputs": [],
   "source": []
  },
  {
   "cell_type": "code",
   "execution_count": null,
   "id": "14c3c209-1c58-4fdb-b33b-86c295e9591b",
   "metadata": {},
   "outputs": [],
   "source": []
  },
  {
   "cell_type": "code",
   "execution_count": null,
   "id": "90355a6c-1c61-4dc9-9d18-d38d1f7be357",
   "metadata": {},
   "outputs": [],
   "source": []
  },
  {
   "cell_type": "code",
   "execution_count": null,
   "id": "59191294-2eef-4d82-8feb-940ec971d3c0",
   "metadata": {},
   "outputs": [],
   "source": []
  }
 ],
 "metadata": {
  "kernelspec": {
   "display_name": "Python 3 (ipykernel)",
   "language": "python",
   "name": "python3"
  },
  "language_info": {
   "codemirror_mode": {
    "name": "ipython",
    "version": 3
   },
   "file_extension": ".py",
   "mimetype": "text/x-python",
   "name": "python",
   "nbconvert_exporter": "python",
   "pygments_lexer": "ipython3",
   "version": "3.10.5"
  }
 },
 "nbformat": 4,
 "nbformat_minor": 5
}

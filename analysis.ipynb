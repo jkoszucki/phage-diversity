{
 "cells": [
  {
   "cell_type": "markdown",
   "id": "b35d2ef1-43d0-4457-8e3b-c9d74a52c538",
   "metadata": {},
   "source": [
    "### Diversity of prophages in KASPAH"
   ]
  },
  {
   "cell_type": "code",
   "execution_count": 132,
   "id": "e89bd213-912f-40e9-a40d-a11283cef0bb",
   "metadata": {},
   "outputs": [],
   "source": [
    "# jupyter setup\n",
    "%reload_ext autoreload\n",
    "%autoreload 2\n",
    "\n",
    "# import modules\n",
    "import warnings\n",
    "import pandas as pd\n",
    "from pathlib import Path\n",
    "from Bio import Phylo\n",
    "from scripts.utils import get_phariants, tree2clades, table2genbank, run_easyfig\n",
    "\n",
    "warnings.filterwarnings('ignore')"
   ]
  },
  {
   "cell_type": "code",
   "execution_count": 148,
   "id": "c675400b-990f-4ef1-bc82-b71d087910d1",
   "metadata": {},
   "outputs": [],
   "source": [
    "# paths\n",
    "work_dir = '/Users/januszkoszucki/Work/Results/prophage-diversity/KLEB-INPHARED-DB-1Aug2022'\n",
    "\n",
    "tables = Path(work_dir, '1_tables')\n",
    "records = Path(work_dir, '2_records')\n",
    "processed = Path(work_dir, '3_processed')\n",
    "\n",
    "# create folders\n",
    "tables.mkdir(exist_ok=True, parents=True)\n",
    "records.mkdir(exist_ok=True, parents=True)\n",
    "processed.mkdir(exist_ok=True, parents=True)"
   ]
  },
  {
   "cell_type": "code",
   "execution_count": 149,
   "id": "829b9885-f988-48d5-a2b2-89ca1003e503",
   "metadata": {},
   "outputs": [],
   "source": [
    "# params\n",
    "wgrr_threshold = 0.85"
   ]
  },
  {
   "cell_type": "markdown",
   "id": "ec24a952-c1ce-4163-ae6a-ac89623c08df",
   "metadata": {},
   "source": [
    "# Run"
   ]
  },
  {
   "cell_type": "code",
   "execution_count": 151,
   "id": "7cc106e6-df3b-4a86-9ad7-7d8b196f4e9d",
   "metadata": {},
   "outputs": [],
   "source": [
    "### phariants\n",
    "# MCL community detection\n",
    "\n",
    "wgrr = Path(tables, 'wgrr.csv')\n",
    "input_table = Path(tables, '1_input.txt')\n",
    "phariants = Path(processed, 'phariants.tsv')\n",
    "\n",
    "phariants_df = get_phariants(wgrr, input_table, phariants, wgrr_threshold)"
   ]
  },
  {
   "cell_type": "code",
   "execution_count": 142,
   "id": "beac6125-99c7-4d6f-aee0-eec40107f3ed",
   "metadata": {},
   "outputs": [
    {
     "name": "stdout",
     "output_type": "stream",
     "text": [
      "Everything is good :) Cluster tree with kmeans method (n_cluster: 25).\n",
      "Done! Phages grouped using mashtree! :)"
     ]
    }
   ],
   "source": [
    "### get 'clades' based on mashtree \n",
    "# get mashtree by hand! (mashtree prophages_fasta/* >> tree.newick)\n",
    "\n",
    "tree_path = Path(processed, 'tree.newick')\n",
    "phariants = Path(processed, 'phariants.tsv')\n",
    "clades = Path(processed, 'clades.tsv')\n",
    "\n",
    "n_clusters = 25\n",
    "\n",
    "phage_clusters_df = tree2clades(tree_path, phariants, clades, n_clusters, kmeans_show=False)"
   ]
  },
  {
   "cell_type": "code",
   "execution_count": 143,
   "id": "e4a1b524-0bf0-45a6-b8e3-8036ad0040f2",
   "metadata": {},
   "outputs": [
    {
     "name": "stdout",
     "output_type": "stream",
     "text": [
      "Nothing to be done :)\n",
      "To force rerun delete /Users/januszkoszucki/Work/Results/prophage-diversity/PROPHAGES-DB-1Aug2022/2_records/prophages.gb\n"
     ]
    }
   ],
   "source": [
    "### table2genbank\n",
    "# from functional annotation table (nr 5 proteins) generate genbank file\n",
    "\n",
    "annot_table = Path(tables, 'annot_table.tsv')\n",
    "phages_fasta = Path(records, 'prophages.fasta')\n",
    "genbank = Path(records, 'prophages.gb')\n",
    "phrog_annot_table = '/Users/januszkoszucki/MGG Dropbox/Janusz Koszucki/Databases/phrog_annot_v3_upgraded.tsv'\n",
    "\n",
    "annot_df = table2genbank(annot_table, phages_fasta, genbank, phrog_annot_table)"
   ]
  },
  {
   "cell_type": "code",
   "execution_count": 147,
   "id": "b543e3b3-d07d-4268-a192-f2aa1bb4bd68",
   "metadata": {},
   "outputs": [
    {
     "name": "stdout",
     "output_type": "stream",
     "text": [
      "Nothing to do :)\n",
      "To force rerun delete /Users/januszkoszucki/Work/Results/prophage-diversity/PROPHAGES-DB-1Aug2022/easyfig/annotated\n"
     ]
    }
   ],
   "source": [
    "### get easyfig figures\n",
    "# annotated : ) \n",
    "\n",
    "clades = Path(processed, 'clades.tsv')\n",
    "prophages = Path(tables, 'prophages.tsv')\n",
    "phages_genbank_dir = Path(records, 'prophages_genbank')\n",
    "\n",
    "easyfig = '/Users/januszkoszucki/MGG\\ Dropbox/Janusz\\ Koszucki/Work/Apps/Easyfig.py'\n",
    "annotate_columns = ['K_locus', 'ST', 'phageID', 'genetic_localisation']\n",
    "leg_name = 'structural'\n",
    "\n",
    "results_dir, process = run_easyfig(work_dir, clades, prophages, phages_genbank_dir, easyfig, leg_name=leg_name, annotate_columns=annotate_columns)"
   ]
  },
  {
   "cell_type": "code",
   "execution_count": null,
   "id": "0ec52d13-7cb9-4289-8f89-a00442d54a52",
   "metadata": {},
   "outputs": [],
   "source": []
  },
  {
   "cell_type": "code",
   "execution_count": null,
   "id": "880e8e58-c669-4410-92b5-f984b6aa2dfb",
   "metadata": {},
   "outputs": [],
   "source": []
  },
  {
   "cell_type": "code",
   "execution_count": null,
   "id": "d057a0cf-f7b2-44ed-930e-0e7667f190ff",
   "metadata": {},
   "outputs": [],
   "source": []
  }
 ],
 "metadata": {
  "kernelspec": {
   "display_name": "Python [conda env:python_env]",
   "language": "python",
   "name": "conda-env-python_env-py"
  },
  "language_info": {
   "codemirror_mode": {
    "name": "ipython",
    "version": 3
   },
   "file_extension": ".py",
   "mimetype": "text/x-python",
   "name": "python",
   "nbconvert_exporter": "python",
   "pygments_lexer": "ipython3",
   "version": "3.10.2"
  }
 },
 "nbformat": 4,
 "nbformat_minor": 5
}

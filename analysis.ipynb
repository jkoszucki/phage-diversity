{
 "cells": [
  {
   "cell_type": "markdown",
   "id": "b35d2ef1-43d0-4457-8e3b-c9d74a52c538",
   "metadata": {},
   "source": [
    "### Diversity of prophages in KASPAH"
   ]
  },
  {
   "cell_type": "code",
   "execution_count": 1,
   "id": "e89bd213-912f-40e9-a40d-a11283cef0bb",
   "metadata": {},
   "outputs": [],
   "source": [
    "# jupyter setup\n",
    "%reload_ext autoreload\n",
    "%autoreload 2\n",
    "\n",
    "# import modules\n",
    "import warnings\n",
    "import pandas as pd\n",
    "from pathlib import Path\n",
    "from Bio import Phylo\n",
    "from scripts.utils import preprocessing, run_ANImm, get_phariants, run_mashtree\n",
    "from scripts.utils import tree2clades, table2genbank, run_easyfig\n",
    "warnings.filterwarnings('ignore')"
   ]
  },
  {
   "cell_type": "code",
   "execution_count": 2,
   "id": "c675400b-990f-4ef1-bc82-b71d087910d1",
   "metadata": {},
   "outputs": [],
   "source": [
    "# paths\n",
    "work_dir = '/home/MCB/jkoszucki/phagedb/PHAGES-DB'\n",
    "animm_dir = '/home/MCB/jkoszucki/Code/ANImm'\n",
    "phrogs_annot_table = '/home/MCB/jkoszucki/phagedb/upgraded_phrog_annot_v3.tsv'\n",
    "\n",
    "input_dir = '/home/MCB/jkoszucki/phagedb'\n",
    "inphared_dir = Path(input_dir, 'INPHARED-DB-1Aug2022/INPHARED-DB-1Aug2022-KLEBSIELLA')\n",
    "prophages_dir = Path(input_dir, 'PROPHAGES-DB-1Aug2022/prophages')\n",
    "\n",
    "# params\n",
    "wgrr_threshold = 0.85"
   ]
  },
  {
   "cell_type": "markdown",
   "id": "ec24a952-c1ce-4163-ae6a-ac89623c08df",
   "metadata": {},
   "source": [
    "# Run"
   ]
  },
  {
   "cell_type": "code",
   "execution_count": 3,
   "id": "89561a44-71c3-4c4b-9493-d8b2d16b66c9",
   "metadata": {},
   "outputs": [
    {
     "name": "stdout",
     "output_type": "stream",
     "text": [
      "Records saved successfully :) \n",
      "ORFs copied successfully :)\n",
      "Nothing to do in table2genbank :)\n",
      "To force rerun delete /home/MCB/jkoszucki/phagedb/PHAGES-DB/0_phagedb/phages.gb\n",
      "Metadata unified and copied successfully :) \n",
      "Functiona annotation input tables merged and saved :)\n"
     ]
    }
   ],
   "source": [
    "### preprocessing of PROPHAGE-DB-1Aug2022 & INPHARED-DB-1Aug2022-KLEBSIELLA\n",
    "# integrate data\n",
    "phagedb_dir = Path(work_dir, '0_phagedb')\n",
    "preprocessing(inphared_dir, prophages_dir, phrogs_annot_table, phagedb_dir) "
   ]
  },
  {
   "cell_type": "code",
   "execution_count": 4,
   "id": "8791cb5b-7bab-44bd-ac94-a3cc5d4f862e",
   "metadata": {},
   "outputs": [
    {
     "name": "stdout",
     "output_type": "stream",
     "text": [
      "ANImm already done! To rerun delete folder: /home/MCB/jkoszucki/phagedb/PHAGES-DB/1_ANImm\n"
     ]
    }
   ],
   "source": [
    "### calculate wGRR\n",
    "animm_results_dir = Path(work_dir, '1_ANImm')\n",
    "process = run_ANImm(animm_dir, phagedb_dir, animm_results_dir)"
   ]
  },
  {
   "cell_type": "code",
   "execution_count": 5,
   "id": "7cc106e6-df3b-4a86-9ad7-7d8b196f4e9d",
   "metadata": {},
   "outputs": [
    {
     "name": "stdout",
     "output_type": "stream",
     "text": [
      "Check! In some case I can loose singletons here!\n",
      "Done! With wGRR treshold = 0.85 we have 696 phage clusters :)"
     ]
    }
   ],
   "source": [
    "### phariants from wGRR\n",
    "# MCL community detection\n",
    "\n",
    "wgrr = Path(animm_results_dir, 'wgrr.csv')\n",
    "annot_input = Path(phagedb_dir, 'annot_input.txt')\n",
    "phariants = Path(animm_results_dir, 'phariants.tsv')\n",
    "\n",
    "phariants_df = get_phariants(wgrr, annot_input, phariants, wgrr_threshold)"
   ]
  },
  {
   "cell_type": "code",
   "execution_count": 6,
   "id": "a2a901f9-16fd-4fa5-83bd-b112c6561639",
   "metadata": {},
   "outputs": [
    {
     "name": "stdout",
     "output_type": "stream",
     "text": [
      "Just run the command in bash. Problem with conda env AGAIN : / \n",
      "\n",
      "source ~/.bashrc; conda activate mashtree; mashtree.pl /home/MCB/jkoszucki/phagedb/PHAGES-DB/0_phagedb/split_records/fasta/* >> /home/MCB/jkoszucki/phagedb/PHAGES-DB/2_mashtree/tree.newick; conda activate mybase;\n"
     ]
    }
   ],
   "source": [
    "### mashtree\n",
    "\n",
    "tree_dir = Path(work_dir, '2_mashtree')\n",
    "cmd = run_mashtree(phagedb_dir, tree_dir)"
   ]
  },
  {
   "cell_type": "code",
   "execution_count": 142,
   "id": "beac6125-99c7-4d6f-aee0-eec40107f3ed",
   "metadata": {},
   "outputs": [
    {
     "name": "stdout",
     "output_type": "stream",
     "text": [
      "Everything is good :) Cluster tree with kmeans method (n_cluster: 25).\n",
      "Done! Phages grouped using mashtree! :)"
     ]
    }
   ],
   "source": [
    "### get 'clades' based on mashtree \n",
    "\n",
    "tree_dir = Path(work_dir, '2_mashtree')\n",
    "tree_path = Path(processed, 'tree.newick')\n",
    "phariants = Path(processed, 'phariants.tsv')\n",
    "clades = Path(processed, 'clades.tsv')\n",
    "\n",
    "n_clusters = 25\n",
    "\n",
    "phage_clusters_df = tree2clades(tree_path, phariants, clades, n_clusters, kmeans_show=False)"
   ]
  },
  {
   "cell_type": "code",
   "execution_count": 143,
   "id": "e4a1b524-0bf0-45a6-b8e3-8036ad0040f2",
   "metadata": {},
   "outputs": [
    {
     "name": "stdout",
     "output_type": "stream",
     "text": [
      "Nothing to be done :)\n",
      "To force rerun delete /Users/januszkoszucki/Work/Results/prophage-diversity/PROPHAGES-DB-1Aug2022/2_records/prophages.gb\n"
     ]
    }
   ],
   "source": [
    "### table2genbank\n",
    "# from functional annotation table (nr 5 proteins) generate genbank file\n",
    "\n",
    "annot_table = Path(tables, 'annot_table.tsv')\n",
    "phages_fasta = Path(records, 'prophages.fasta')\n",
    "genbank = Path(records, 'prophages.gb')\n",
    "phrog_annot_table = '/Users/januszkoszucki/MGG Dropbox/Janusz Koszucki/Databases/phrog_annot_v3_upgraded.tsv'\n",
    "\n",
    "annot_df = table2genbank(annot_table, phages_fasta, genbank, phrog_annot_table)"
   ]
  },
  {
   "cell_type": "code",
   "execution_count": 147,
   "id": "b543e3b3-d07d-4268-a192-f2aa1bb4bd68",
   "metadata": {},
   "outputs": [
    {
     "name": "stdout",
     "output_type": "stream",
     "text": [
      "Nothing to do :)\n",
      "To force rerun delete /Users/januszkoszucki/Work/Results/prophage-diversity/PROPHAGES-DB-1Aug2022/easyfig/annotated\n"
     ]
    }
   ],
   "source": [
    "### get easyfig figures\n",
    "# annotated : ) \n",
    "\n",
    "clades = Path(processed, 'clades.tsv')\n",
    "prophages = Path(tables, 'prophages.tsv')\n",
    "phages_genbank_dir = Path(records, 'prophages_genbank')\n",
    "\n",
    "easyfig = '/Users/januszkoszucki/MGG\\ Dropbox/Janusz\\ Koszucki/Work/Apps/Easyfig.py'\n",
    "annotate_columns = ['K_locus', 'ST', 'phageID', 'genetic_localisation']\n",
    "leg_name = 'structural'\n",
    "\n",
    "results_dir, process = run_easyfig(work_dir, clades, prophages, phages_genbank_dir, easyfig, leg_name=leg_name, annotate_columns=annotate_columns)"
   ]
  },
  {
   "cell_type": "code",
   "execution_count": null,
   "id": "0ec52d13-7cb9-4289-8f89-a00442d54a52",
   "metadata": {},
   "outputs": [],
   "source": []
  },
  {
   "cell_type": "code",
   "execution_count": null,
   "id": "880e8e58-c669-4410-92b5-f984b6aa2dfb",
   "metadata": {},
   "outputs": [],
   "source": []
  },
  {
   "cell_type": "code",
   "execution_count": null,
   "id": "d057a0cf-f7b2-44ed-930e-0e7667f190ff",
   "metadata": {},
   "outputs": [],
   "source": []
  }
 ],
 "metadata": {
  "kernelspec": {
   "display_name": "Python 3 (ipykernel)",
   "language": "python",
   "name": "python3"
  },
  "language_info": {
   "codemirror_mode": {
    "name": "ipython",
    "version": 3
   },
   "file_extension": ".py",
   "mimetype": "text/x-python",
   "name": "python",
   "nbconvert_exporter": "python",
   "pygments_lexer": "ipython3",
   "version": "3.10.5"
  }
 },
 "nbformat": 4,
 "nbformat_minor": 5
}

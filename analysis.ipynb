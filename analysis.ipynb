{
 "cells": [
  {
   "cell_type": "markdown",
   "id": "b35d2ef1-43d0-4457-8e3b-c9d74a52c538",
   "metadata": {},
   "source": [
    "### Diversity of prophages in KASPAH"
   ]
  },
  {
   "cell_type": "code",
   "execution_count": 19,
   "id": "e89bd213-912f-40e9-a40d-a11283cef0bb",
   "metadata": {},
   "outputs": [],
   "source": [
    "# jupyter setup\n",
    "%reload_ext autoreload\n",
    "%autoreload 2\n",
    "\n",
    "# import modules\n",
    "import warnings\n",
    "import pandas as pd\n",
    "from pathlib import Path\n",
    "from Bio import Phylo\n",
    "from scripts.utils import preprocessing, run_ANImm, get_phariants, run_mashtree\n",
    "from scripts.utils import tree2clades, table2genbank, run_easyfig\n",
    "warnings.filterwarnings('ignore')"
   ]
  },
  {
   "cell_type": "code",
   "execution_count": 2,
   "id": "c675400b-990f-4ef1-bc82-b71d087910d1",
   "metadata": {},
   "outputs": [],
   "source": [
    "# paths\n",
    "work_dir = '/home/MCB/jkoszucki/phagedb/PHAGES-DB'\n",
    "animm_dir = '/home/MCB/jkoszucki/Code/ANImm'\n",
    "phrogs_annot_table = '/home/MCB/jkoszucki/phagedb/upgraded_phrog_annot_v3.tsv'\n",
    "\n",
    "input_dir = '/home/MCB/jkoszucki/phagedb'\n",
    "inphared_dir = Path(input_dir, 'INPHARED-DB-1Aug2022/INPHARED-DB-1Aug2022-KLEBSIELLA')\n",
    "prophages_dir = Path(input_dir, 'PROPHAGES-DB-1Aug2022/prophages')\n",
    "\n",
    "# params\n",
    "wgrr_threshold = 0.85"
   ]
  },
  {
   "cell_type": "markdown",
   "id": "ec24a952-c1ce-4163-ae6a-ac89623c08df",
   "metadata": {},
   "source": [
    "# Run"
   ]
  },
  {
   "cell_type": "code",
   "execution_count": 3,
   "id": "89561a44-71c3-4c4b-9493-d8b2d16b66c9",
   "metadata": {},
   "outputs": [
    {
     "name": "stdout",
     "output_type": "stream",
     "text": [
      "Records saved successfully :) \n",
      "ORFs copied successfully :)\n",
      "Nothing to do in table2genbank :)\n",
      "To force rerun delete /home/MCB/jkoszucki/phagedb/PHAGES-DB/0_phagedb/phages.gb\n",
      "Metadata unified and copied successfully :) \n",
      "Functiona annotation input tables merged and saved :)\n"
     ]
    }
   ],
   "source": [
    "### preprocessing of PROPHAGE-DB-1Aug2022 & INPHARED-DB-1Aug2022-KLEBSIELLA\n",
    "# integrate data\n",
    "phagedb_dir = Path(work_dir, '0_phagedb')\n",
    "preprocessing(inphared_dir, prophages_dir, phrogs_annot_table, phagedb_dir) "
   ]
  },
  {
   "cell_type": "code",
   "execution_count": 4,
   "id": "8791cb5b-7bab-44bd-ac94-a3cc5d4f862e",
   "metadata": {},
   "outputs": [
    {
     "name": "stdout",
     "output_type": "stream",
     "text": [
      "ANImm already done! To rerun delete folder: /home/MCB/jkoszucki/phagedb/PHAGES-DB/1_ANImm\n"
     ]
    }
   ],
   "source": [
    "### calculate wGRR\n",
    "animm_results_dir = Path(work_dir, '1_ANImm')\n",
    "process = run_ANImm(animm_dir, phagedb_dir, animm_results_dir)"
   ]
  },
  {
   "cell_type": "code",
   "execution_count": 5,
   "id": "7cc106e6-df3b-4a86-9ad7-7d8b196f4e9d",
   "metadata": {},
   "outputs": [
    {
     "name": "stdout",
     "output_type": "stream",
     "text": [
      "Check! In some case I can loose singletons here!\n",
      "Done! With wGRR treshold = 0.85 we have 696 phage clusters :)"
     ]
    }
   ],
   "source": [
    "### phariants from wGRR\n",
    "# MCL community detection\n",
    "\n",
    "wgrr = Path(animm_results_dir, 'wgrr.csv')\n",
    "annot_input = Path(phagedb_dir, 'annot_input.txt')\n",
    "phariants = Path(animm_results_dir, 'phariants.tsv')\n",
    "\n",
    "phariants_df = get_phariants(wgrr, annot_input, phariants, wgrr_threshold)"
   ]
  },
  {
   "cell_type": "code",
   "execution_count": 6,
   "id": "a2a901f9-16fd-4fa5-83bd-b112c6561639",
   "metadata": {},
   "outputs": [
    {
     "name": "stdout",
     "output_type": "stream",
     "text": [
      "Just run the command in bash. Problem with conda env AGAIN : / \n",
      "\n",
      "source ~/.bashrc; conda activate mashtree; mashtree.pl /home/MCB/jkoszucki/phagedb/PHAGES-DB/0_phagedb/split_records/fasta/* >> /home/MCB/jkoszucki/phagedb/PHAGES-DB/2_mashtree/tree.newick; conda activate mybase;\n"
     ]
    }
   ],
   "source": [
    "### mashtree\n",
    "# local machine needs a lots of memory because tree is firstly dropped loccaly then copied\n",
    "tree_dir = Path(work_dir, '2_mashtree')\n",
    "cmd = run_mashtree(phagedb_dir, tree_dir)"
   ]
  },
  {
   "cell_type": "code",
   "execution_count": 13,
   "id": "beac6125-99c7-4d6f-aee0-eec40107f3ed",
   "metadata": {},
   "outputs": [
    {
     "name": "stdout",
     "output_type": "stream",
     "text": [
      "Everything is good :) Cluster tree with kmeans method (n_cluster: 40).\n",
      "Done! Phages grouped using mashtree! :)"
     ]
    }
   ],
   "source": [
    "### get 'clades' based on mashtree \n",
    "\n",
    "tree_dir = Path(work_dir, '2_mashtree')\n",
    "tree_path = Path(tree_dir, 'tree.newick')\n",
    "phariants = Path(animm_results_dir, 'phariants.tsv')\n",
    "clades = Path(tree_dir, 'clades.tsv')\n",
    "\n",
    "n_clusters = 40\n",
    "\n",
    "phage_clusters_df = tree2clades(tree_path, phariants, clades, n_clusters, kmeans_show=False)"
   ]
  },
  {
   "cell_type": "code",
   "execution_count": 25,
   "id": "b543e3b3-d07d-4268-a192-f2aa1bb4bd68",
   "metadata": {},
   "outputs": [
    {
     "ename": "OSError",
     "evalue": "cannot open resource",
     "output_type": "error",
     "traceback": [
      "\u001b[0;31m---------------------------------------------------------------------------\u001b[0m",
      "\u001b[0;31mOSError\u001b[0m                                   Traceback (most recent call last)",
      "Input \u001b[0;32mIn [25]\u001b[0m, in \u001b[0;36m<cell line: 13>\u001b[0;34m()\u001b[0m\n\u001b[1;32m     10\u001b[0m annotate_columns \u001b[38;5;241m=\u001b[39m [\u001b[38;5;124m'\u001b[39m\u001b[38;5;124mK_locus\u001b[39m\u001b[38;5;124m'\u001b[39m, \u001b[38;5;124m'\u001b[39m\u001b[38;5;124mST\u001b[39m\u001b[38;5;124m'\u001b[39m, \u001b[38;5;124m'\u001b[39m\u001b[38;5;124mphageID\u001b[39m\u001b[38;5;124m'\u001b[39m, \u001b[38;5;124m'\u001b[39m\u001b[38;5;124mgenetic_localisation\u001b[39m\u001b[38;5;124m'\u001b[39m]\n\u001b[1;32m     11\u001b[0m leg_name \u001b[38;5;241m=\u001b[39m \u001b[38;5;124m'\u001b[39m\u001b[38;5;124mstructural\u001b[39m\u001b[38;5;124m'\u001b[39m\n\u001b[0;32m---> 13\u001b[0m results_dir, process \u001b[38;5;241m=\u001b[39m \u001b[43mrun_easyfig\u001b[49m\u001b[43m(\u001b[49m\u001b[43mwork_dir\u001b[49m\u001b[43m,\u001b[49m\u001b[43m \u001b[49m\u001b[43mclades\u001b[49m\u001b[43m,\u001b[49m\u001b[43m \u001b[49m\u001b[43mprophages\u001b[49m\u001b[43m,\u001b[49m\u001b[43m \u001b[49m\u001b[43mphages_genbank_dir\u001b[49m\u001b[43m,\u001b[49m\u001b[43m \u001b[49m\u001b[43measyfig\u001b[49m\u001b[43m,\u001b[49m\u001b[43m \u001b[49m\u001b[43mleg_name\u001b[49m\u001b[38;5;241;43m=\u001b[39;49m\u001b[43mleg_name\u001b[49m\u001b[43m)\u001b[49m\n",
      "File \u001b[0;32m~/Code/phage-diversity/scripts/utils.py:369\u001b[0m, in \u001b[0;36mrun_easyfig\u001b[0;34m(work_dir, clades, prophages, phages_genbank_dir, easyfig_script, leg_name, annotate_columns, font_path)\u001b[0m\n\u001b[1;32m    366\u001b[0m raw_dir \u001b[38;5;241m=\u001b[39m Path(easyfig_dir, \u001b[38;5;124m'\u001b[39m\u001b[38;5;124mraw\u001b[39m\u001b[38;5;124m'\u001b[39m)\n\u001b[1;32m    367\u001b[0m annotated_dir \u001b[38;5;241m=\u001b[39m Path(easyfig_dir, \u001b[38;5;124m'\u001b[39m\u001b[38;5;124mannotated\u001b[39m\u001b[38;5;124m'\u001b[39m)\n\u001b[0;32m--> 369\u001b[0m font \u001b[38;5;241m=\u001b[39m \u001b[43mImageFont\u001b[49m\u001b[38;5;241;43m.\u001b[39;49m\u001b[43mtruetype\u001b[49m\u001b[43m(\u001b[49m\u001b[43mfont_path\u001b[49m\u001b[43m,\u001b[49m\u001b[43m \u001b[49m\u001b[38;5;241;43m70\u001b[39;49m\u001b[43m)\u001b[49m\n\u001b[1;32m    370\u001b[0m clusters \u001b[38;5;241m=\u001b[39m \u001b[38;5;28msorted\u001b[39m(\u001b[38;5;28mlist\u001b[39m(clades_df[\u001b[38;5;124m'\u001b[39m\u001b[38;5;124mclusterID\u001b[39m\u001b[38;5;124m'\u001b[39m]\u001b[38;5;241m.\u001b[39munique()))\n\u001b[1;32m    372\u001b[0m \u001b[38;5;66;03m# checkpoint\u001b[39;00m\n",
      "File \u001b[0;32m~/.conda/envs/mybase/lib/python3.10/site-packages/PIL/ImageFont.py:959\u001b[0m, in \u001b[0;36mtruetype\u001b[0;34m(font, size, index, encoding, layout_engine)\u001b[0m\n\u001b[1;32m    956\u001b[0m     \u001b[38;5;28;01mreturn\u001b[39;00m FreeTypeFont(font, size, index, encoding, layout_engine)\n\u001b[1;32m    958\u001b[0m \u001b[38;5;28;01mtry\u001b[39;00m:\n\u001b[0;32m--> 959\u001b[0m     \u001b[38;5;28;01mreturn\u001b[39;00m \u001b[43mfreetype\u001b[49m\u001b[43m(\u001b[49m\u001b[43mfont\u001b[49m\u001b[43m)\u001b[49m\n\u001b[1;32m    960\u001b[0m \u001b[38;5;28;01mexcept\u001b[39;00m \u001b[38;5;167;01mOSError\u001b[39;00m:\n\u001b[1;32m    961\u001b[0m     \u001b[38;5;28;01mif\u001b[39;00m \u001b[38;5;129;01mnot\u001b[39;00m is_path(font):\n",
      "File \u001b[0;32m~/.conda/envs/mybase/lib/python3.10/site-packages/PIL/ImageFont.py:956\u001b[0m, in \u001b[0;36mtruetype.<locals>.freetype\u001b[0;34m(font)\u001b[0m\n\u001b[1;32m    955\u001b[0m \u001b[38;5;28;01mdef\u001b[39;00m \u001b[38;5;21mfreetype\u001b[39m(font):\n\u001b[0;32m--> 956\u001b[0m     \u001b[38;5;28;01mreturn\u001b[39;00m \u001b[43mFreeTypeFont\u001b[49m\u001b[43m(\u001b[49m\u001b[43mfont\u001b[49m\u001b[43m,\u001b[49m\u001b[43m \u001b[49m\u001b[43msize\u001b[49m\u001b[43m,\u001b[49m\u001b[43m \u001b[49m\u001b[43mindex\u001b[49m\u001b[43m,\u001b[49m\u001b[43m \u001b[49m\u001b[43mencoding\u001b[49m\u001b[43m,\u001b[49m\u001b[43m \u001b[49m\u001b[43mlayout_engine\u001b[49m\u001b[43m)\u001b[49m\n",
      "File \u001b[0;32m~/.conda/envs/mybase/lib/python3.10/site-packages/PIL/ImageFont.py:247\u001b[0m, in \u001b[0;36mFreeTypeFont.__init__\u001b[0;34m(self, font, size, index, encoding, layout_engine)\u001b[0m\n\u001b[1;32m    245\u001b[0m                 load_from_bytes(f)\n\u001b[1;32m    246\u001b[0m             \u001b[38;5;28;01mreturn\u001b[39;00m\n\u001b[0;32m--> 247\u001b[0m     \u001b[38;5;28mself\u001b[39m\u001b[38;5;241m.\u001b[39mfont \u001b[38;5;241m=\u001b[39m \u001b[43mcore\u001b[49m\u001b[38;5;241;43m.\u001b[39;49m\u001b[43mgetfont\u001b[49m\u001b[43m(\u001b[49m\n\u001b[1;32m    248\u001b[0m \u001b[43m        \u001b[49m\u001b[43mfont\u001b[49m\u001b[43m,\u001b[49m\u001b[43m \u001b[49m\u001b[43msize\u001b[49m\u001b[43m,\u001b[49m\u001b[43m \u001b[49m\u001b[43mindex\u001b[49m\u001b[43m,\u001b[49m\u001b[43m \u001b[49m\u001b[43mencoding\u001b[49m\u001b[43m,\u001b[49m\u001b[43m \u001b[49m\u001b[43mlayout_engine\u001b[49m\u001b[38;5;241;43m=\u001b[39;49m\u001b[43mlayout_engine\u001b[49m\n\u001b[1;32m    249\u001b[0m \u001b[43m    \u001b[49m\u001b[43m)\u001b[49m\n\u001b[1;32m    250\u001b[0m \u001b[38;5;28;01melse\u001b[39;00m:\n\u001b[1;32m    251\u001b[0m     load_from_bytes(font)\n",
      "\u001b[0;31mOSError\u001b[0m: cannot open resource"
     ]
    }
   ],
   "source": [
    "### get easyfig figures\n",
    "# annotated : ) \n",
    "\n",
    "clades = Path(tree_dir, 'clades.tsv')\n",
    "prophages = Path(phagedb_dir, 'phages.tsv')\n",
    "phages_genbank_dir = Path(phagedb_dir, 'split_records/genbank')\n",
    "\n",
    "easyfig = Path('other/Easyfig.py').resolve()\n",
    "\n",
    "annotate_columns = ['K_locus', 'ST', 'phageID', 'genetic_localisation']\n",
    "leg_name = 'structural'\n",
    "\n",
    "results_dir, process = run_easyfig(work_dir, clades, prophages, phages_genbank_dir, easyfig, leg_name=leg_name)"
   ]
  },
  {
   "cell_type": "code",
   "execution_count": null,
   "id": "0ec52d13-7cb9-4289-8f89-a00442d54a52",
   "metadata": {},
   "outputs": [],
   "source": [
    "process.stderr"
   ]
  },
  {
   "cell_type": "code",
   "execution_count": null,
   "id": "880e8e58-c669-4410-92b5-f984b6aa2dfb",
   "metadata": {},
   "outputs": [],
   "source": []
  },
  {
   "cell_type": "code",
   "execution_count": null,
   "id": "d057a0cf-f7b2-44ed-930e-0e7667f190ff",
   "metadata": {},
   "outputs": [],
   "source": []
  }
 ],
 "metadata": {
  "kernelspec": {
   "display_name": "Python 3 (ipykernel)",
   "language": "python",
   "name": "python3"
  },
  "language_info": {
   "codemirror_mode": {
    "name": "ipython",
    "version": 3
   },
   "file_extension": ".py",
   "mimetype": "text/x-python",
   "name": "python",
   "nbconvert_exporter": "python",
   "pygments_lexer": "ipython3",
   "version": "3.10.5"
  }
 },
 "nbformat": 4,
 "nbformat_minor": 5
}

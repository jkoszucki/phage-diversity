{
 "cells": [
  {
   "cell_type": "markdown",
   "id": "b35d2ef1-43d0-4457-8e3b-c9d74a52c538",
   "metadata": {},
   "source": [
    "### Diversity of prophages in KASPAH"
   ]
  },
  {
   "cell_type": "code",
   "execution_count": 29,
   "id": "e89bd213-912f-40e9-a40d-a11283cef0bb",
   "metadata": {},
   "outputs": [],
   "source": [
    "# jupyter setup\n",
    "%reload_ext autoreload\n",
    "%autoreload 2\n",
    "\n",
    "# import modules\n",
    "import warnings\n",
    "import pandas as pd\n",
    "from pathlib import Path\n",
    "from Bio import Phylo\n",
    "from scripts.utils import preprocessing, coGRR, get_phariants, run_mashtree\n",
    "from scripts.utils import tree2clades, between_phariants_easyfig\n",
    "from scripts.utils import stGRR, GRR\n",
    "warnings.filterwarnings('ignore')"
   ]
  },
  {
   "cell_type": "code",
   "execution_count": 30,
   "id": "c675400b-990f-4ef1-bc82-b71d087910d1",
   "metadata": {},
   "outputs": [],
   "source": [
    "# paths\n",
    "work_dir = '/home/MCB/jkoszucki/phagedb/PHAGES-DB'\n",
    "animm_dir = '/home/MCB/jkoszucki/Code/ANImm'\n",
    "phrogs_annot_table = '/home/MCB/jkoszucki/Code/phage-diversity/other/upgraded_phrog_annot_v3.tsv'\n",
    "# font_path='other/arial.ttf' \n",
    "\n",
    "input_dir = '/home/MCB/jkoszucki/phagedb'\n",
    "inphared_dir = Path(input_dir, 'INPHARED-DB-1Aug2022/INPHARED-DB-1Aug2022-KLEBSIELLA')\n",
    "prophages_dir = Path(input_dir, 'PROPHAGES-DB-1Aug2022/prophages')\n",
    "\n",
    "\n",
    "phagedb_dir = Path(work_dir, '0_phagedb')\n",
    "annot_input = Path(phagedb_dir, 'annot_input.txt')\n",
    "metadata_table = Path(phagedb_dir, 'phages.tsv')\n",
    "genbank_dir = Path(phagedb_dir, 'split_records/genbank')\n",
    "\n",
    "\n",
    "#coGRR\n",
    "coGRR_dir = Path(work_dir, '1_coGRR')\n",
    "\n",
    "coGRR_animm_dir = Path(coGRR_dir, '1_ANImm')\n",
    "wgrr = Path(coGRR_animm_dir, 'wgrr.csv')\n",
    "phariants = Path(coGRR_animm_dir, 'phariants.tsv')\n",
    "\n",
    "tree_dir = Path(coGRR_dir, '2_mashtree')\n",
    "tree_path = Path(tree_dir, 'tree.newick')\n",
    "clades = Path(tree_dir, 'clades.tsv')\n",
    "\n",
    "#stGRR\n",
    "stGRR_dir = Path(work_dir, '2_stGRR')\n",
    "\n",
    "\n",
    "# GRR\n",
    "coGRR_table = Path(work_dir, '1_coGRR','1_ANImm', 'wgrr.csv')\n",
    "stGRR_table = Path(work_dir, '2_stGRR', '2_ANImm', 'wgrr.csv')\n",
    "GRR_dir = Path(work_dir, '3_GRR')\n",
    "\n",
    "\n",
    "# params\n",
    "wgrr_threshold = 0.95\n",
    "n_clusters = 40 # mashtree clustering\n",
    "\n",
    "columns2annotate = ['phageID', 'backphlip', 'K_locus', 'ST', 'genetic_localisation', 'ICTV_Family'] # easyfig annotation\n",
    "leg_name = 'structural' # easyfig\n",
    "categs = ['head and packaging', 'connector', 'tail'] # categories of structural proteins"
   ]
  },
  {
   "cell_type": "markdown",
   "id": "ec24a952-c1ce-4163-ae6a-ac89623c08df",
   "metadata": {},
   "source": [
    "## 0. Preprocessing"
   ]
  },
  {
   "cell_type": "code",
   "execution_count": 31,
   "id": "89561a44-71c3-4c4b-9493-d8b2d16b66c9",
   "metadata": {},
   "outputs": [
    {
     "name": "stdout",
     "output_type": "stream",
     "text": [
      "Loading backphlip from /home/MCB/jkoszucki/backphlip/phages.fasta.bacphlip... Done!\n",
      "Records saved successfully :) \n",
      "Proteins files per phage copied successfully (ANImm input) :)\n",
      "Done! 1407 phages converted to genbank file.\n",
      "Functional annotation input tables merged and saved :)\n",
      "Phage flipped and saved to seperate genbank files :) \n",
      "Metadata unified and copied successfully :) \n"
     ]
    }
   ],
   "source": [
    "### preprocessing of PROPHAGE-DB-1Aug2022 & INPHARED-DB-1Aug2022-KLEBSIELLA & BACKPHLIP\n",
    "# integrate data\n",
    "\n",
    "preprocessing(inphared_dir, prophages_dir, phrogs_annot_table, phagedb_dir) "
   ]
  },
  {
   "cell_type": "markdown",
   "id": "67417f16-4c32-40fd-9098-af8edd4476ca",
   "metadata": {},
   "source": [
    "## 1. complete genome (coGRR)"
   ]
  },
  {
   "cell_type": "code",
   "execution_count": 4,
   "id": "8791cb5b-7bab-44bd-ac94-a3cc5d4f862e",
   "metadata": {},
   "outputs": [
    {
     "name": "stdout",
     "output_type": "stream",
     "text": [
      "ANImm already done! To rerun delete folder: /home/MCB/jkoszucki/phagedb/PHAGES-DB/1_coGRR/1_ANImm\n"
     ]
    }
   ],
   "source": [
    "### calculate wGRR\n",
    "process = coGRR(animm_dir, phagedb_dir, coGRR_animm_dir)"
   ]
  },
  {
   "cell_type": "code",
   "execution_count": 5,
   "id": "7cc106e6-df3b-4a86-9ad7-7d8b196f4e9d",
   "metadata": {},
   "outputs": [
    {
     "name": "stdout",
     "output_type": "stream",
     "text": [
      "Check! In some case I can loose singletons here!\n",
      "Done! With wGRR treshold = 0.95 we have 964 phage clusters :)"
     ]
    }
   ],
   "source": [
    "### phariants from wGRR\n",
    "# MCL community detection\n",
    "phariants_df = get_phariants(wgrr, annot_input, phariants, wgrr_threshold)"
   ]
  },
  {
   "cell_type": "code",
   "execution_count": 6,
   "id": "a2a901f9-16fd-4fa5-83bd-b112c6561639",
   "metadata": {},
   "outputs": [
    {
     "name": "stdout",
     "output_type": "stream",
     "text": [
      "Just run the command in bash. Problem with conda env AGAIN : / \n",
      "\n",
      "source ~/.bashrc; conda activate mashtree; mashtree.pl /home/MCB/jkoszucki/phagedb/PHAGES-DB/0_phagedb/split_records/fasta/* >> /home/MCB/jkoszucki/phagedb/PHAGES-DB/1_coGRR/2_mashtree/tree.newick; conda activate mybase;\n"
     ]
    }
   ],
   "source": [
    "### mashtree\n",
    "# local machine needs a lots of memory because tree is firstly saved loccaly then copied\n",
    "cmd = run_mashtree(phagedb_dir, tree_dir)"
   ]
  },
  {
   "cell_type": "code",
   "execution_count": 7,
   "id": "beac6125-99c7-4d6f-aee0-eec40107f3ed",
   "metadata": {},
   "outputs": [
    {
     "name": "stdout",
     "output_type": "stream",
     "text": [
      "Mashtree already done! To rerun delete folder: /home/MCB/jkoszucki/phagedb/PHAGES-DB/1_coGRR/2_mashtree/tree.newick\n"
     ]
    }
   ],
   "source": [
    "### get 'clades' based on mashtree (for visualisation purposes)\n",
    "# there are size limitations on jpeg files and its easier to look on genomes when they are clustered \n",
    "phage_clusters_df = tree2clades(tree_path, phariants, clades, n_clusters, kmeans_show=False)"
   ]
  },
  {
   "cell_type": "code",
   "execution_count": 5,
   "id": "b543e3b3-d07d-4268-a192-f2aa1bb4bd68",
   "metadata": {},
   "outputs": [
    {
     "name": "stdout",
     "output_type": "stream",
     "text": [
      "Generating easyfig figures for 40 clusters :) \n"
     ]
    },
    {
     "ename": "FileNotFoundError",
     "evalue": "[Errno 2] No such file or directory: '/home/MCB/jkoszucki/phagedb/PHAGES-DB/0_phagedb/phages.tsv'",
     "output_type": "error",
     "traceback": [
      "\u001b[0;31m---------------------------------------------------------------------------\u001b[0m",
      "\u001b[0;31mFileNotFoundError\u001b[0m                         Traceback (most recent call last)",
      "Input \u001b[0;32mIn [5]\u001b[0m, in \u001b[0;36m<cell line: 3>\u001b[0;34m()\u001b[0m\n\u001b[1;32m      1\u001b[0m \u001b[38;5;66;03m### get easyfig figures between phariants of each representative phage from cluster\u001b[39;00m\n\u001b[1;32m      2\u001b[0m \u001b[38;5;66;03m# annotated : ) \u001b[39;00m\n\u001b[0;32m----> 3\u001b[0m results_dir, process \u001b[38;5;241m=\u001b[39m \u001b[43mbetween_phariants_easyfig\u001b[49m\u001b[43m(\u001b[49m\u001b[43mwork_dir\u001b[49m\u001b[43m,\u001b[49m\u001b[43m \u001b[49m\u001b[43mclades\u001b[49m\u001b[43m,\u001b[49m\u001b[43m \u001b[49m\u001b[43mmetadata_table\u001b[49m\u001b[43m,\u001b[49m\u001b[43m \u001b[49m\u001b[43mgenbank_dir\u001b[49m\u001b[43m,\u001b[49m\u001b[43m \u001b[49m\u001b[43mleg_name\u001b[49m\u001b[38;5;241;43m=\u001b[39;49m\u001b[43mleg_name\u001b[49m\u001b[43m,\u001b[49m\u001b[43m \u001b[49m\u001b[43mcolumns2annotate\u001b[49m\u001b[38;5;241;43m=\u001b[39;49m\u001b[43mcolumns2annotate\u001b[49m\u001b[43m)\u001b[49m\n",
      "File \u001b[0;32m~/Code/phage-diversity/scripts/utils.py:529\u001b[0m, in \u001b[0;36mbetween_phariants_easyfig\u001b[0;34m(work_dir, clades, phages, phages_genbank_dir, leg_name, columns2annotate)\u001b[0m\n\u001b[1;32m    527\u001b[0m \u001b[38;5;28;01mfor\u001b[39;00m nclust \u001b[38;5;129;01min\u001b[39;00m clusters:\n\u001b[1;32m    528\u001b[0m     leafs \u001b[38;5;241m=\u001b[39m clades_df\u001b[38;5;241m.\u001b[39mloc[clades_df[\u001b[38;5;124m'\u001b[39m\u001b[38;5;124mclusterID\u001b[39m\u001b[38;5;124m'\u001b[39m] \u001b[38;5;241m==\u001b[39m nclust][\u001b[38;5;124m'\u001b[39m\u001b[38;5;124mcontigID\u001b[39m\u001b[38;5;124m'\u001b[39m]\u001b[38;5;241m.\u001b[39mto_list()\n\u001b[0;32m--> 529\u001b[0m     phages_df \u001b[38;5;241m=\u001b[39m \u001b[43mpd\u001b[49m\u001b[38;5;241;43m.\u001b[39;49m\u001b[43mread_csv\u001b[49m\u001b[43m(\u001b[49m\u001b[43mphages\u001b[49m\u001b[43m,\u001b[49m\u001b[43m \u001b[49m\u001b[43msep\u001b[49m\u001b[38;5;241;43m=\u001b[39;49m\u001b[38;5;124;43m'\u001b[39;49m\u001b[38;5;130;43;01m\\t\u001b[39;49;00m\u001b[38;5;124;43m'\u001b[39;49m\u001b[43m)\u001b[49m\n\u001b[1;32m    530\u001b[0m     phages_df\u001b[38;5;241m.\u001b[39mfillna(\u001b[38;5;124m'\u001b[39m\u001b[38;5;124m'\u001b[39m, inplace\u001b[38;5;241m=\u001b[39m\u001b[38;5;28;01mTrue\u001b[39;00m)\n\u001b[1;32m    532\u001b[0m     svg \u001b[38;5;241m=\u001b[39m Path(easyfig_dir, \u001b[38;5;124mf\u001b[39m\u001b[38;5;124m'\u001b[39m\u001b[38;5;124mclade_\u001b[39m\u001b[38;5;132;01m{\u001b[39;00m\u001b[38;5;28mstr\u001b[39m(nclust)\u001b[38;5;132;01m}\u001b[39;00m\u001b[38;5;124m.svg\u001b[39m\u001b[38;5;124m'\u001b[39m)\n",
      "File \u001b[0;32m~/.conda/envs/mybase/lib/python3.10/site-packages/pandas/util/_decorators.py:311\u001b[0m, in \u001b[0;36mdeprecate_nonkeyword_arguments.<locals>.decorate.<locals>.wrapper\u001b[0;34m(*args, **kwargs)\u001b[0m\n\u001b[1;32m    305\u001b[0m \u001b[38;5;28;01mif\u001b[39;00m \u001b[38;5;28mlen\u001b[39m(args) \u001b[38;5;241m>\u001b[39m num_allow_args:\n\u001b[1;32m    306\u001b[0m     warnings\u001b[38;5;241m.\u001b[39mwarn(\n\u001b[1;32m    307\u001b[0m         msg\u001b[38;5;241m.\u001b[39mformat(arguments\u001b[38;5;241m=\u001b[39marguments),\n\u001b[1;32m    308\u001b[0m         \u001b[38;5;167;01mFutureWarning\u001b[39;00m,\n\u001b[1;32m    309\u001b[0m         stacklevel\u001b[38;5;241m=\u001b[39mstacklevel,\n\u001b[1;32m    310\u001b[0m     )\n\u001b[0;32m--> 311\u001b[0m \u001b[38;5;28;01mreturn\u001b[39;00m \u001b[43mfunc\u001b[49m\u001b[43m(\u001b[49m\u001b[38;5;241;43m*\u001b[39;49m\u001b[43margs\u001b[49m\u001b[43m,\u001b[49m\u001b[43m \u001b[49m\u001b[38;5;241;43m*\u001b[39;49m\u001b[38;5;241;43m*\u001b[39;49m\u001b[43mkwargs\u001b[49m\u001b[43m)\u001b[49m\n",
      "File \u001b[0;32m~/.conda/envs/mybase/lib/python3.10/site-packages/pandas/io/parsers/readers.py:680\u001b[0m, in \u001b[0;36mread_csv\u001b[0;34m(filepath_or_buffer, sep, delimiter, header, names, index_col, usecols, squeeze, prefix, mangle_dupe_cols, dtype, engine, converters, true_values, false_values, skipinitialspace, skiprows, skipfooter, nrows, na_values, keep_default_na, na_filter, verbose, skip_blank_lines, parse_dates, infer_datetime_format, keep_date_col, date_parser, dayfirst, cache_dates, iterator, chunksize, compression, thousands, decimal, lineterminator, quotechar, quoting, doublequote, escapechar, comment, encoding, encoding_errors, dialect, error_bad_lines, warn_bad_lines, on_bad_lines, delim_whitespace, low_memory, memory_map, float_precision, storage_options)\u001b[0m\n\u001b[1;32m    665\u001b[0m kwds_defaults \u001b[38;5;241m=\u001b[39m _refine_defaults_read(\n\u001b[1;32m    666\u001b[0m     dialect,\n\u001b[1;32m    667\u001b[0m     delimiter,\n\u001b[0;32m   (...)\u001b[0m\n\u001b[1;32m    676\u001b[0m     defaults\u001b[38;5;241m=\u001b[39m{\u001b[38;5;124m\"\u001b[39m\u001b[38;5;124mdelimiter\u001b[39m\u001b[38;5;124m\"\u001b[39m: \u001b[38;5;124m\"\u001b[39m\u001b[38;5;124m,\u001b[39m\u001b[38;5;124m\"\u001b[39m},\n\u001b[1;32m    677\u001b[0m )\n\u001b[1;32m    678\u001b[0m kwds\u001b[38;5;241m.\u001b[39mupdate(kwds_defaults)\n\u001b[0;32m--> 680\u001b[0m \u001b[38;5;28;01mreturn\u001b[39;00m \u001b[43m_read\u001b[49m\u001b[43m(\u001b[49m\u001b[43mfilepath_or_buffer\u001b[49m\u001b[43m,\u001b[49m\u001b[43m \u001b[49m\u001b[43mkwds\u001b[49m\u001b[43m)\u001b[49m\n",
      "File \u001b[0;32m~/.conda/envs/mybase/lib/python3.10/site-packages/pandas/io/parsers/readers.py:575\u001b[0m, in \u001b[0;36m_read\u001b[0;34m(filepath_or_buffer, kwds)\u001b[0m\n\u001b[1;32m    572\u001b[0m _validate_names(kwds\u001b[38;5;241m.\u001b[39mget(\u001b[38;5;124m\"\u001b[39m\u001b[38;5;124mnames\u001b[39m\u001b[38;5;124m\"\u001b[39m, \u001b[38;5;28;01mNone\u001b[39;00m))\n\u001b[1;32m    574\u001b[0m \u001b[38;5;66;03m# Create the parser.\u001b[39;00m\n\u001b[0;32m--> 575\u001b[0m parser \u001b[38;5;241m=\u001b[39m \u001b[43mTextFileReader\u001b[49m\u001b[43m(\u001b[49m\u001b[43mfilepath_or_buffer\u001b[49m\u001b[43m,\u001b[49m\u001b[43m \u001b[49m\u001b[38;5;241;43m*\u001b[39;49m\u001b[38;5;241;43m*\u001b[39;49m\u001b[43mkwds\u001b[49m\u001b[43m)\u001b[49m\n\u001b[1;32m    577\u001b[0m \u001b[38;5;28;01mif\u001b[39;00m chunksize \u001b[38;5;129;01mor\u001b[39;00m iterator:\n\u001b[1;32m    578\u001b[0m     \u001b[38;5;28;01mreturn\u001b[39;00m parser\n",
      "File \u001b[0;32m~/.conda/envs/mybase/lib/python3.10/site-packages/pandas/io/parsers/readers.py:934\u001b[0m, in \u001b[0;36mTextFileReader.__init__\u001b[0;34m(self, f, engine, **kwds)\u001b[0m\n\u001b[1;32m    931\u001b[0m     \u001b[38;5;28mself\u001b[39m\u001b[38;5;241m.\u001b[39moptions[\u001b[38;5;124m\"\u001b[39m\u001b[38;5;124mhas_index_names\u001b[39m\u001b[38;5;124m\"\u001b[39m] \u001b[38;5;241m=\u001b[39m kwds[\u001b[38;5;124m\"\u001b[39m\u001b[38;5;124mhas_index_names\u001b[39m\u001b[38;5;124m\"\u001b[39m]\n\u001b[1;32m    933\u001b[0m \u001b[38;5;28mself\u001b[39m\u001b[38;5;241m.\u001b[39mhandles: IOHandles \u001b[38;5;241m|\u001b[39m \u001b[38;5;28;01mNone\u001b[39;00m \u001b[38;5;241m=\u001b[39m \u001b[38;5;28;01mNone\u001b[39;00m\n\u001b[0;32m--> 934\u001b[0m \u001b[38;5;28mself\u001b[39m\u001b[38;5;241m.\u001b[39m_engine \u001b[38;5;241m=\u001b[39m \u001b[38;5;28;43mself\u001b[39;49m\u001b[38;5;241;43m.\u001b[39;49m\u001b[43m_make_engine\u001b[49m\u001b[43m(\u001b[49m\u001b[43mf\u001b[49m\u001b[43m,\u001b[49m\u001b[43m \u001b[49m\u001b[38;5;28;43mself\u001b[39;49m\u001b[38;5;241;43m.\u001b[39;49m\u001b[43mengine\u001b[49m\u001b[43m)\u001b[49m\n",
      "File \u001b[0;32m~/.conda/envs/mybase/lib/python3.10/site-packages/pandas/io/parsers/readers.py:1218\u001b[0m, in \u001b[0;36mTextFileReader._make_engine\u001b[0;34m(self, f, engine)\u001b[0m\n\u001b[1;32m   1214\u001b[0m     mode \u001b[38;5;241m=\u001b[39m \u001b[38;5;124m\"\u001b[39m\u001b[38;5;124mrb\u001b[39m\u001b[38;5;124m\"\u001b[39m\n\u001b[1;32m   1215\u001b[0m \u001b[38;5;66;03m# error: No overload variant of \"get_handle\" matches argument types\u001b[39;00m\n\u001b[1;32m   1216\u001b[0m \u001b[38;5;66;03m# \"Union[str, PathLike[str], ReadCsvBuffer[bytes], ReadCsvBuffer[str]]\"\u001b[39;00m\n\u001b[1;32m   1217\u001b[0m \u001b[38;5;66;03m# , \"str\", \"bool\", \"Any\", \"Any\", \"Any\", \"Any\", \"Any\"\u001b[39;00m\n\u001b[0;32m-> 1218\u001b[0m \u001b[38;5;28mself\u001b[39m\u001b[38;5;241m.\u001b[39mhandles \u001b[38;5;241m=\u001b[39m \u001b[43mget_handle\u001b[49m\u001b[43m(\u001b[49m\u001b[43m  \u001b[49m\u001b[38;5;66;43;03m# type: ignore[call-overload]\u001b[39;49;00m\n\u001b[1;32m   1219\u001b[0m \u001b[43m    \u001b[49m\u001b[43mf\u001b[49m\u001b[43m,\u001b[49m\n\u001b[1;32m   1220\u001b[0m \u001b[43m    \u001b[49m\u001b[43mmode\u001b[49m\u001b[43m,\u001b[49m\n\u001b[1;32m   1221\u001b[0m \u001b[43m    \u001b[49m\u001b[43mencoding\u001b[49m\u001b[38;5;241;43m=\u001b[39;49m\u001b[38;5;28;43mself\u001b[39;49m\u001b[38;5;241;43m.\u001b[39;49m\u001b[43moptions\u001b[49m\u001b[38;5;241;43m.\u001b[39;49m\u001b[43mget\u001b[49m\u001b[43m(\u001b[49m\u001b[38;5;124;43m\"\u001b[39;49m\u001b[38;5;124;43mencoding\u001b[39;49m\u001b[38;5;124;43m\"\u001b[39;49m\u001b[43m,\u001b[49m\u001b[43m \u001b[49m\u001b[38;5;28;43;01mNone\u001b[39;49;00m\u001b[43m)\u001b[49m\u001b[43m,\u001b[49m\n\u001b[1;32m   1222\u001b[0m \u001b[43m    \u001b[49m\u001b[43mcompression\u001b[49m\u001b[38;5;241;43m=\u001b[39;49m\u001b[38;5;28;43mself\u001b[39;49m\u001b[38;5;241;43m.\u001b[39;49m\u001b[43moptions\u001b[49m\u001b[38;5;241;43m.\u001b[39;49m\u001b[43mget\u001b[49m\u001b[43m(\u001b[49m\u001b[38;5;124;43m\"\u001b[39;49m\u001b[38;5;124;43mcompression\u001b[39;49m\u001b[38;5;124;43m\"\u001b[39;49m\u001b[43m,\u001b[49m\u001b[43m \u001b[49m\u001b[38;5;28;43;01mNone\u001b[39;49;00m\u001b[43m)\u001b[49m\u001b[43m,\u001b[49m\n\u001b[1;32m   1223\u001b[0m \u001b[43m    \u001b[49m\u001b[43mmemory_map\u001b[49m\u001b[38;5;241;43m=\u001b[39;49m\u001b[38;5;28;43mself\u001b[39;49m\u001b[38;5;241;43m.\u001b[39;49m\u001b[43moptions\u001b[49m\u001b[38;5;241;43m.\u001b[39;49m\u001b[43mget\u001b[49m\u001b[43m(\u001b[49m\u001b[38;5;124;43m\"\u001b[39;49m\u001b[38;5;124;43mmemory_map\u001b[39;49m\u001b[38;5;124;43m\"\u001b[39;49m\u001b[43m,\u001b[49m\u001b[43m \u001b[49m\u001b[38;5;28;43;01mFalse\u001b[39;49;00m\u001b[43m)\u001b[49m\u001b[43m,\u001b[49m\n\u001b[1;32m   1224\u001b[0m \u001b[43m    \u001b[49m\u001b[43mis_text\u001b[49m\u001b[38;5;241;43m=\u001b[39;49m\u001b[43mis_text\u001b[49m\u001b[43m,\u001b[49m\n\u001b[1;32m   1225\u001b[0m \u001b[43m    \u001b[49m\u001b[43merrors\u001b[49m\u001b[38;5;241;43m=\u001b[39;49m\u001b[38;5;28;43mself\u001b[39;49m\u001b[38;5;241;43m.\u001b[39;49m\u001b[43moptions\u001b[49m\u001b[38;5;241;43m.\u001b[39;49m\u001b[43mget\u001b[49m\u001b[43m(\u001b[49m\u001b[38;5;124;43m\"\u001b[39;49m\u001b[38;5;124;43mencoding_errors\u001b[39;49m\u001b[38;5;124;43m\"\u001b[39;49m\u001b[43m,\u001b[49m\u001b[43m \u001b[49m\u001b[38;5;124;43m\"\u001b[39;49m\u001b[38;5;124;43mstrict\u001b[39;49m\u001b[38;5;124;43m\"\u001b[39;49m\u001b[43m)\u001b[49m\u001b[43m,\u001b[49m\n\u001b[1;32m   1226\u001b[0m \u001b[43m    \u001b[49m\u001b[43mstorage_options\u001b[49m\u001b[38;5;241;43m=\u001b[39;49m\u001b[38;5;28;43mself\u001b[39;49m\u001b[38;5;241;43m.\u001b[39;49m\u001b[43moptions\u001b[49m\u001b[38;5;241;43m.\u001b[39;49m\u001b[43mget\u001b[49m\u001b[43m(\u001b[49m\u001b[38;5;124;43m\"\u001b[39;49m\u001b[38;5;124;43mstorage_options\u001b[39;49m\u001b[38;5;124;43m\"\u001b[39;49m\u001b[43m,\u001b[49m\u001b[43m \u001b[49m\u001b[38;5;28;43;01mNone\u001b[39;49;00m\u001b[43m)\u001b[49m\u001b[43m,\u001b[49m\n\u001b[1;32m   1227\u001b[0m \u001b[43m\u001b[49m\u001b[43m)\u001b[49m\n\u001b[1;32m   1228\u001b[0m \u001b[38;5;28;01massert\u001b[39;00m \u001b[38;5;28mself\u001b[39m\u001b[38;5;241m.\u001b[39mhandles \u001b[38;5;129;01mis\u001b[39;00m \u001b[38;5;129;01mnot\u001b[39;00m \u001b[38;5;28;01mNone\u001b[39;00m\n\u001b[1;32m   1229\u001b[0m f \u001b[38;5;241m=\u001b[39m \u001b[38;5;28mself\u001b[39m\u001b[38;5;241m.\u001b[39mhandles\u001b[38;5;241m.\u001b[39mhandle\n",
      "File \u001b[0;32m~/.conda/envs/mybase/lib/python3.10/site-packages/pandas/io/common.py:786\u001b[0m, in \u001b[0;36mget_handle\u001b[0;34m(path_or_buf, mode, encoding, compression, memory_map, is_text, errors, storage_options)\u001b[0m\n\u001b[1;32m    781\u001b[0m \u001b[38;5;28;01melif\u001b[39;00m \u001b[38;5;28misinstance\u001b[39m(handle, \u001b[38;5;28mstr\u001b[39m):\n\u001b[1;32m    782\u001b[0m     \u001b[38;5;66;03m# Check whether the filename is to be opened in binary mode.\u001b[39;00m\n\u001b[1;32m    783\u001b[0m     \u001b[38;5;66;03m# Binary mode does not support 'encoding' and 'newline'.\u001b[39;00m\n\u001b[1;32m    784\u001b[0m     \u001b[38;5;28;01mif\u001b[39;00m ioargs\u001b[38;5;241m.\u001b[39mencoding \u001b[38;5;129;01mand\u001b[39;00m \u001b[38;5;124m\"\u001b[39m\u001b[38;5;124mb\u001b[39m\u001b[38;5;124m\"\u001b[39m \u001b[38;5;129;01mnot\u001b[39;00m \u001b[38;5;129;01min\u001b[39;00m ioargs\u001b[38;5;241m.\u001b[39mmode:\n\u001b[1;32m    785\u001b[0m         \u001b[38;5;66;03m# Encoding\u001b[39;00m\n\u001b[0;32m--> 786\u001b[0m         handle \u001b[38;5;241m=\u001b[39m \u001b[38;5;28;43mopen\u001b[39;49m\u001b[43m(\u001b[49m\n\u001b[1;32m    787\u001b[0m \u001b[43m            \u001b[49m\u001b[43mhandle\u001b[49m\u001b[43m,\u001b[49m\n\u001b[1;32m    788\u001b[0m \u001b[43m            \u001b[49m\u001b[43mioargs\u001b[49m\u001b[38;5;241;43m.\u001b[39;49m\u001b[43mmode\u001b[49m\u001b[43m,\u001b[49m\n\u001b[1;32m    789\u001b[0m \u001b[43m            \u001b[49m\u001b[43mencoding\u001b[49m\u001b[38;5;241;43m=\u001b[39;49m\u001b[43mioargs\u001b[49m\u001b[38;5;241;43m.\u001b[39;49m\u001b[43mencoding\u001b[49m\u001b[43m,\u001b[49m\n\u001b[1;32m    790\u001b[0m \u001b[43m            \u001b[49m\u001b[43merrors\u001b[49m\u001b[38;5;241;43m=\u001b[39;49m\u001b[43merrors\u001b[49m\u001b[43m,\u001b[49m\n\u001b[1;32m    791\u001b[0m \u001b[43m            \u001b[49m\u001b[43mnewline\u001b[49m\u001b[38;5;241;43m=\u001b[39;49m\u001b[38;5;124;43m\"\u001b[39;49m\u001b[38;5;124;43m\"\u001b[39;49m\u001b[43m,\u001b[49m\n\u001b[1;32m    792\u001b[0m \u001b[43m        \u001b[49m\u001b[43m)\u001b[49m\n\u001b[1;32m    793\u001b[0m     \u001b[38;5;28;01melse\u001b[39;00m:\n\u001b[1;32m    794\u001b[0m         \u001b[38;5;66;03m# Binary mode\u001b[39;00m\n\u001b[1;32m    795\u001b[0m         handle \u001b[38;5;241m=\u001b[39m \u001b[38;5;28mopen\u001b[39m(handle, ioargs\u001b[38;5;241m.\u001b[39mmode)\n",
      "\u001b[0;31mFileNotFoundError\u001b[0m: [Errno 2] No such file or directory: '/home/MCB/jkoszucki/phagedb/PHAGES-DB/0_phagedb/phages.tsv'"
     ]
    }
   ],
   "source": [
    "### get easyfig figures between phariants of each representative phage from cluster\n",
    "# annotated : ) \n",
    "results_dir, process = between_phariants_easyfig(work_dir, clades, metadata_table, genbank_dir, leg_name=leg_name, columns2annotate=columns2annotate)"
   ]
  },
  {
   "cell_type": "markdown",
   "id": "f67e81a6-13f0-410c-95b8-7f41f43ecdd2",
   "metadata": {},
   "source": [
    "## 2. Structural genome (stGRR)"
   ]
  },
  {
   "cell_type": "code",
   "execution_count": 16,
   "id": "0ec52d13-7cb9-4289-8f89-a00442d54a52",
   "metadata": {},
   "outputs": [
    {
     "name": "stdout",
     "output_type": "stream",
     "text": [
      "Prepared input structural proteins :) \n",
      "stGRR already done! To rerun ANImm delete folder: /home/MCB/jkoszucki/phagedb/PHAGES-DB/2_stGRR/2_ANImm\n",
      "Clustering by stGRR... (tresholds: 0.9, 0.8) Done!\n",
      "Easyfig of stGRR clusters... Done!\n"
     ]
    }
   ],
   "source": [
    "### get structural clusters\n",
    "stGRR(animm_dir, phagedb_dir, stGRR_dir, categs)"
   ]
  },
  {
   "cell_type": "markdown",
   "id": "fc3f12a2-d5c3-4e73-8589-9454769712a3",
   "metadata": {},
   "source": [
    "## 3. coGRR & stGRR comparison"
   ]
  },
  {
   "cell_type": "code",
   "execution_count": 37,
   "id": "f6c32774-a956-4f44-8257-fc55b67bb891",
   "metadata": {},
   "outputs": [
    {
     "name": "stdout",
     "output_type": "stream",
     "text": [
      "Running GRR!\n",
      "Merging tables... Done!\n",
      "Generating networks... Done!\n",
      "Generating correlation plot... \n",
      "    1. prophages & inphared... Done!\n",
      "    2. inphared... Done!\n"
     ]
    }
   ],
   "source": [
    "GRR_df = GRR(coGRR_table, stGRR_table, metadata_table, genbank_dir, \n",
    "             GRR_dir, network_grr_tresholds = [0.9, 0.8, 0.7, 0.6, 0.5, 0.4, 0.3, 0.2, 0.1], \n",
    "             wgrr_co=0.3 , wgrr_st=0.8, easyfig=False, show=False, force=True)"
   ]
  },
  {
   "cell_type": "code",
   "execution_count": null,
   "id": "bb58a8f5-f478-4ea4-99bc-00d44d338776",
   "metadata": {},
   "outputs": [],
   "source": []
  },
  {
   "cell_type": "code",
   "execution_count": null,
   "id": "0277a2da-3570-4d22-8687-f69bd3694caa",
   "metadata": {},
   "outputs": [],
   "source": []
  },
  {
   "cell_type": "code",
   "execution_count": null,
   "id": "2e436397-66e6-4245-8a73-9e2209301757",
   "metadata": {},
   "outputs": [],
   "source": []
  }
 ],
 "metadata": {
  "kernelspec": {
   "display_name": "Python 3 (ipykernel)",
   "language": "python",
   "name": "python3"
  },
  "language_info": {
   "codemirror_mode": {
    "name": "ipython",
    "version": 3
   },
   "file_extension": ".py",
   "mimetype": "text/x-python",
   "name": "python",
   "nbconvert_exporter": "python",
   "pygments_lexer": "ipython3",
   "version": "3.10.5"
  }
 },
 "nbformat": 4,
 "nbformat_minor": 5
}
